{
  "nbformat": 4,
  "nbformat_minor": 0,
  "metadata": {
    "colab": {
      "provenance": [],
      "gpuType": "T4",
      "authorship_tag": "ABX9TyMWNFmOZGE2OXfBiFjtUaZM",
      "include_colab_link": true
    },
    "kernelspec": {
      "name": "python3",
      "display_name": "Python 3"
    },
    "language_info": {
      "name": "python"
    },
    "accelerator": "GPU"
  },
  "cells": [
    {
      "cell_type": "markdown",
      "metadata": {
        "id": "view-in-github",
        "colab_type": "text"
      },
      "source": [
        "<a href=\"https://colab.research.google.com/github/ask350/Deep-Learning/blob/main/CNN.ipynb\" target=\"_parent\"><img src=\"https://colab.research.google.com/assets/colab-badge.svg\" alt=\"Open In Colab\"/></a>"
      ]
    },
    {
      "cell_type": "markdown",
      "source": [
        "# Convolutional Neural Network"
      ],
      "metadata": {
        "id": "o4dG8SeG35Td"
      }
    },
    {
      "cell_type": "code",
      "execution_count": 1,
      "metadata": {
        "id": "tykjN5023suJ"
      },
      "outputs": [],
      "source": [
        "from warnings import filterwarnings\n",
        "filterwarnings(\"ignore\")"
      ]
    },
    {
      "cell_type": "markdown",
      "source": [
        "### Load handwritten digit dataset"
      ],
      "metadata": {
        "id": "PedUGhh24e40"
      }
    },
    {
      "cell_type": "code",
      "source": [
        "from keras.datasets import mnist"
      ],
      "metadata": {
        "id": "YVUFO2gK4q5e"
      },
      "execution_count": 2,
      "outputs": []
    },
    {
      "cell_type": "code",
      "source": [
        "(xtrain,ytrain), (xtest,ytest) = mnist.load_data()"
      ],
      "metadata": {
        "id": "_Axum-GI4b_E"
      },
      "execution_count": 3,
      "outputs": []
    },
    {
      "cell_type": "code",
      "source": [
        "xtrain"
      ],
      "metadata": {
        "colab": {
          "base_uri": "https://localhost:8080/"
        },
        "id": "e5OXfEpS4yka",
        "outputId": "5f163a55-72d9-40e9-d67c-8e8aade650d9"
      },
      "execution_count": 4,
      "outputs": [
        {
          "output_type": "execute_result",
          "data": {
            "text/plain": [
              "array([[[0, 0, 0, ..., 0, 0, 0],\n",
              "        [0, 0, 0, ..., 0, 0, 0],\n",
              "        [0, 0, 0, ..., 0, 0, 0],\n",
              "        ...,\n",
              "        [0, 0, 0, ..., 0, 0, 0],\n",
              "        [0, 0, 0, ..., 0, 0, 0],\n",
              "        [0, 0, 0, ..., 0, 0, 0]],\n",
              "\n",
              "       [[0, 0, 0, ..., 0, 0, 0],\n",
              "        [0, 0, 0, ..., 0, 0, 0],\n",
              "        [0, 0, 0, ..., 0, 0, 0],\n",
              "        ...,\n",
              "        [0, 0, 0, ..., 0, 0, 0],\n",
              "        [0, 0, 0, ..., 0, 0, 0],\n",
              "        [0, 0, 0, ..., 0, 0, 0]],\n",
              "\n",
              "       [[0, 0, 0, ..., 0, 0, 0],\n",
              "        [0, 0, 0, ..., 0, 0, 0],\n",
              "        [0, 0, 0, ..., 0, 0, 0],\n",
              "        ...,\n",
              "        [0, 0, 0, ..., 0, 0, 0],\n",
              "        [0, 0, 0, ..., 0, 0, 0],\n",
              "        [0, 0, 0, ..., 0, 0, 0]],\n",
              "\n",
              "       ...,\n",
              "\n",
              "       [[0, 0, 0, ..., 0, 0, 0],\n",
              "        [0, 0, 0, ..., 0, 0, 0],\n",
              "        [0, 0, 0, ..., 0, 0, 0],\n",
              "        ...,\n",
              "        [0, 0, 0, ..., 0, 0, 0],\n",
              "        [0, 0, 0, ..., 0, 0, 0],\n",
              "        [0, 0, 0, ..., 0, 0, 0]],\n",
              "\n",
              "       [[0, 0, 0, ..., 0, 0, 0],\n",
              "        [0, 0, 0, ..., 0, 0, 0],\n",
              "        [0, 0, 0, ..., 0, 0, 0],\n",
              "        ...,\n",
              "        [0, 0, 0, ..., 0, 0, 0],\n",
              "        [0, 0, 0, ..., 0, 0, 0],\n",
              "        [0, 0, 0, ..., 0, 0, 0]],\n",
              "\n",
              "       [[0, 0, 0, ..., 0, 0, 0],\n",
              "        [0, 0, 0, ..., 0, 0, 0],\n",
              "        [0, 0, 0, ..., 0, 0, 0],\n",
              "        ...,\n",
              "        [0, 0, 0, ..., 0, 0, 0],\n",
              "        [0, 0, 0, ..., 0, 0, 0],\n",
              "        [0, 0, 0, ..., 0, 0, 0]]], dtype=uint8)"
            ]
          },
          "metadata": {},
          "execution_count": 4
        }
      ]
    },
    {
      "cell_type": "code",
      "source": [
        "ytrain"
      ],
      "metadata": {
        "colab": {
          "base_uri": "https://localhost:8080/"
        },
        "id": "mS0xQVQ4482J",
        "outputId": "f34524ef-05fa-4aa5-e701-0ec395db9003"
      },
      "execution_count": 5,
      "outputs": [
        {
          "output_type": "execute_result",
          "data": {
            "text/plain": [
              "array([5, 0, 4, ..., 5, 6, 8], dtype=uint8)"
            ]
          },
          "metadata": {},
          "execution_count": 5
        }
      ]
    },
    {
      "cell_type": "code",
      "source": [
        "xtest"
      ],
      "metadata": {
        "colab": {
          "base_uri": "https://localhost:8080/"
        },
        "id": "Em9Kh4EU5BZr",
        "outputId": "2ca8a19e-45dd-4eb2-ee4f-91ee0a45fdb0"
      },
      "execution_count": 6,
      "outputs": [
        {
          "output_type": "execute_result",
          "data": {
            "text/plain": [
              "array([[[0, 0, 0, ..., 0, 0, 0],\n",
              "        [0, 0, 0, ..., 0, 0, 0],\n",
              "        [0, 0, 0, ..., 0, 0, 0],\n",
              "        ...,\n",
              "        [0, 0, 0, ..., 0, 0, 0],\n",
              "        [0, 0, 0, ..., 0, 0, 0],\n",
              "        [0, 0, 0, ..., 0, 0, 0]],\n",
              "\n",
              "       [[0, 0, 0, ..., 0, 0, 0],\n",
              "        [0, 0, 0, ..., 0, 0, 0],\n",
              "        [0, 0, 0, ..., 0, 0, 0],\n",
              "        ...,\n",
              "        [0, 0, 0, ..., 0, 0, 0],\n",
              "        [0, 0, 0, ..., 0, 0, 0],\n",
              "        [0, 0, 0, ..., 0, 0, 0]],\n",
              "\n",
              "       [[0, 0, 0, ..., 0, 0, 0],\n",
              "        [0, 0, 0, ..., 0, 0, 0],\n",
              "        [0, 0, 0, ..., 0, 0, 0],\n",
              "        ...,\n",
              "        [0, 0, 0, ..., 0, 0, 0],\n",
              "        [0, 0, 0, ..., 0, 0, 0],\n",
              "        [0, 0, 0, ..., 0, 0, 0]],\n",
              "\n",
              "       ...,\n",
              "\n",
              "       [[0, 0, 0, ..., 0, 0, 0],\n",
              "        [0, 0, 0, ..., 0, 0, 0],\n",
              "        [0, 0, 0, ..., 0, 0, 0],\n",
              "        ...,\n",
              "        [0, 0, 0, ..., 0, 0, 0],\n",
              "        [0, 0, 0, ..., 0, 0, 0],\n",
              "        [0, 0, 0, ..., 0, 0, 0]],\n",
              "\n",
              "       [[0, 0, 0, ..., 0, 0, 0],\n",
              "        [0, 0, 0, ..., 0, 0, 0],\n",
              "        [0, 0, 0, ..., 0, 0, 0],\n",
              "        ...,\n",
              "        [0, 0, 0, ..., 0, 0, 0],\n",
              "        [0, 0, 0, ..., 0, 0, 0],\n",
              "        [0, 0, 0, ..., 0, 0, 0]],\n",
              "\n",
              "       [[0, 0, 0, ..., 0, 0, 0],\n",
              "        [0, 0, 0, ..., 0, 0, 0],\n",
              "        [0, 0, 0, ..., 0, 0, 0],\n",
              "        ...,\n",
              "        [0, 0, 0, ..., 0, 0, 0],\n",
              "        [0, 0, 0, ..., 0, 0, 0],\n",
              "        [0, 0, 0, ..., 0, 0, 0]]], dtype=uint8)"
            ]
          },
          "metadata": {},
          "execution_count": 6
        }
      ]
    },
    {
      "cell_type": "code",
      "source": [
        "ytest"
      ],
      "metadata": {
        "colab": {
          "base_uri": "https://localhost:8080/"
        },
        "id": "MwWfr_by5LqJ",
        "outputId": "8f4395bb-90f7-4254-d22a-cd0810289483"
      },
      "execution_count": 7,
      "outputs": [
        {
          "output_type": "execute_result",
          "data": {
            "text/plain": [
              "array([7, 2, 1, ..., 4, 5, 6], dtype=uint8)"
            ]
          },
          "metadata": {},
          "execution_count": 7
        }
      ]
    },
    {
      "cell_type": "markdown",
      "source": [
        "### Viewing the image in data"
      ],
      "metadata": {
        "id": "_QzXogmV88pL"
      }
    },
    {
      "cell_type": "code",
      "source": [
        "xtrain[0]"
      ],
      "metadata": {
        "colab": {
          "base_uri": "https://localhost:8080/",
          "height": 68
        },
        "id": "GN5VzlGd9MjS",
        "outputId": "7f73ccd8-bcc4-4dcd-c608-faf529f637c0"
      },
      "execution_count": 8,
      "outputs": [
        {
          "output_type": "execute_result",
          "data": {
            "text/plain": [
              "array([[  0,   0,   0,   0,   0,   0,   0,   0,   0,   0,   0,   0,   0,\n",
              "          0,   0,   0,   0,   0,   0,   0,   0,   0,   0,   0,   0,   0,\n",
              "          0,   0],\n",
              "       [  0,   0,   0,   0,   0,   0,   0,   0,   0,   0,   0,   0,   0,\n",
              "          0,   0,   0,   0,   0,   0,   0,   0,   0,   0,   0,   0,   0,\n",
              "          0,   0],\n",
              "       [  0,   0,   0,   0,   0,   0,   0,   0,   0,   0,   0,   0,   0,\n",
              "          0,   0,   0,   0,   0,   0,   0,   0,   0,   0,   0,   0,   0,\n",
              "          0,   0],\n",
              "       [  0,   0,   0,   0,   0,   0,   0,   0,   0,   0,   0,   0,   0,\n",
              "          0,   0,   0,   0,   0,   0,   0,   0,   0,   0,   0,   0,   0,\n",
              "          0,   0],\n",
              "       [  0,   0,   0,   0,   0,   0,   0,   0,   0,   0,   0,   0,   0,\n",
              "          0,   0,   0,   0,   0,   0,   0,   0,   0,   0,   0,   0,   0,\n",
              "          0,   0],\n",
              "       [  0,   0,   0,   0,   0,   0,   0,   0,   0,   0,   0,   0,   3,\n",
              "         18,  18,  18, 126, 136, 175,  26, 166, 255, 247, 127,   0,   0,\n",
              "          0,   0],\n",
              "       [  0,   0,   0,   0,   0,   0,   0,   0,  30,  36,  94, 154, 170,\n",
              "        253, 253, 253, 253, 253, 225, 172, 253, 242, 195,  64,   0,   0,\n",
              "          0,   0],\n",
              "       [  0,   0,   0,   0,   0,   0,   0,  49, 238, 253, 253, 253, 253,\n",
              "        253, 253, 253, 253, 251,  93,  82,  82,  56,  39,   0,   0,   0,\n",
              "          0,   0],\n",
              "       [  0,   0,   0,   0,   0,   0,   0,  18, 219, 253, 253, 253, 253,\n",
              "        253, 198, 182, 247, 241,   0,   0,   0,   0,   0,   0,   0,   0,\n",
              "          0,   0],\n",
              "       [  0,   0,   0,   0,   0,   0,   0,   0,  80, 156, 107, 253, 253,\n",
              "        205,  11,   0,  43, 154,   0,   0,   0,   0,   0,   0,   0,   0,\n",
              "          0,   0],\n",
              "       [  0,   0,   0,   0,   0,   0,   0,   0,   0,  14,   1, 154, 253,\n",
              "         90,   0,   0,   0,   0,   0,   0,   0,   0,   0,   0,   0,   0,\n",
              "          0,   0],\n",
              "       [  0,   0,   0,   0,   0,   0,   0,   0,   0,   0,   0, 139, 253,\n",
              "        190,   2,   0,   0,   0,   0,   0,   0,   0,   0,   0,   0,   0,\n",
              "          0,   0],\n",
              "       [  0,   0,   0,   0,   0,   0,   0,   0,   0,   0,   0,  11, 190,\n",
              "        253,  70,   0,   0,   0,   0,   0,   0,   0,   0,   0,   0,   0,\n",
              "          0,   0],\n",
              "       [  0,   0,   0,   0,   0,   0,   0,   0,   0,   0,   0,   0,  35,\n",
              "        241, 225, 160, 108,   1,   0,   0,   0,   0,   0,   0,   0,   0,\n",
              "          0,   0],\n",
              "       [  0,   0,   0,   0,   0,   0,   0,   0,   0,   0,   0,   0,   0,\n",
              "         81, 240, 253, 253, 119,  25,   0,   0,   0,   0,   0,   0,   0,\n",
              "          0,   0],\n",
              "       [  0,   0,   0,   0,   0,   0,   0,   0,   0,   0,   0,   0,   0,\n",
              "          0,  45, 186, 253, 253, 150,  27,   0,   0,   0,   0,   0,   0,\n",
              "          0,   0],\n",
              "       [  0,   0,   0,   0,   0,   0,   0,   0,   0,   0,   0,   0,   0,\n",
              "          0,   0,  16,  93, 252, 253, 187,   0,   0,   0,   0,   0,   0,\n",
              "          0,   0],\n",
              "       [  0,   0,   0,   0,   0,   0,   0,   0,   0,   0,   0,   0,   0,\n",
              "          0,   0,   0,   0, 249, 253, 249,  64,   0,   0,   0,   0,   0,\n",
              "          0,   0],\n",
              "       [  0,   0,   0,   0,   0,   0,   0,   0,   0,   0,   0,   0,   0,\n",
              "          0,  46, 130, 183, 253, 253, 207,   2,   0,   0,   0,   0,   0,\n",
              "          0,   0],\n",
              "       [  0,   0,   0,   0,   0,   0,   0,   0,   0,   0,   0,   0,  39,\n",
              "        148, 229, 253, 253, 253, 250, 182,   0,   0,   0,   0,   0,   0,\n",
              "          0,   0],\n",
              "       [  0,   0,   0,   0,   0,   0,   0,   0,   0,   0,  24, 114, 221,\n",
              "        253, 253, 253, 253, 201,  78,   0,   0,   0,   0,   0,   0,   0,\n",
              "          0,   0],\n",
              "       [  0,   0,   0,   0,   0,   0,   0,   0,  23,  66, 213, 253, 253,\n",
              "        253, 253, 198,  81,   2,   0,   0,   0,   0,   0,   0,   0,   0,\n",
              "          0,   0],\n",
              "       [  0,   0,   0,   0,   0,   0,  18, 171, 219, 253, 253, 253, 253,\n",
              "        195,  80,   9,   0,   0,   0,   0,   0,   0,   0,   0,   0,   0,\n",
              "          0,   0],\n",
              "       [  0,   0,   0,   0,  55, 172, 226, 253, 253, 253, 253, 244, 133,\n",
              "         11,   0,   0,   0,   0,   0,   0,   0,   0,   0,   0,   0,   0,\n",
              "          0,   0],\n",
              "       [  0,   0,   0,   0, 136, 253, 253, 253, 212, 135, 132,  16,   0,\n",
              "          0,   0,   0,   0,   0,   0,   0,   0,   0,   0,   0,   0,   0,\n",
              "          0,   0],\n",
              "       [  0,   0,   0,   0,   0,   0,   0,   0,   0,   0,   0,   0,   0,\n",
              "          0,   0,   0,   0,   0,   0,   0,   0,   0,   0,   0,   0,   0,\n",
              "          0,   0],\n",
              "       [  0,   0,   0,   0,   0,   0,   0,   0,   0,   0,   0,   0,   0,\n",
              "          0,   0,   0,   0,   0,   0,   0,   0,   0,   0,   0,   0,   0,\n",
              "          0,   0],\n",
              "       [  0,   0,   0,   0,   0,   0,   0,   0,   0,   0,   0,   0,   0,\n",
              "          0,   0,   0,   0,   0,   0,   0,   0,   0,   0,   0,   0,   0,\n",
              "          0,   0]], dtype=uint8)"
            ],
            "text/html": [
              "<style>\n",
              "      .ndarray_repr .ndarray_raw_data {\n",
              "        display: none;\n",
              "      }\n",
              "      .ndarray_repr.show_array .ndarray_raw_data {\n",
              "        display: block;\n",
              "      }\n",
              "      .ndarray_repr.show_array .ndarray_image_preview {\n",
              "        display: none;\n",
              "      }\n",
              "      </style>\n",
              "      <div id=\"id-46e8e65e-7ff1-4dfa-86aa-8245b4c3f3ce\" class=\"ndarray_repr\"><pre>ndarray (28, 28) <button style=\"padding: 0 2px;\">show data</button></pre><img src=\"data:image/png;base64,iVBORw0KGgoAAAANSUhEUgAAABwAAAAcCAAAAABXZoBIAAABAElEQVR4nGNgGMyAWUhIqK5jvdSy/9/rGRgYGFhgEnJsVjYCwQwMDAxPJgV+vniQgYGBgREqZ7iXH8r6l/SV4dn7m8gmCt3++/fv37/Htn3/iMW+gDnZf/+e5WbQnoXNNXyMs/5GoQoxwVmf/n9kSGFiwAW49/11wynJoPzx4YIcRlyygR/+/i2XxCWru+vv32nSuGQFYv/83Y3b4p9/fzpAmSyoMnohpiwM1w5h06Q+5enfv39/bcMiJVF09+/fv39P+mFKiTtd/fv3799jgZiBJLT69t+/f/8eDuDEkDJf8+jv379/v7Ryo4qzMDAwMAQGMjBc3/y35wM2V1IfAABFF16Aa0wAOwAAAABJRU5ErkJggg==\" class=\"ndarray_image_preview\" /><pre class=\"ndarray_raw_data\">array([[  0,   0,   0,   0,   0,   0,   0,   0,   0,   0,   0,   0,   0,\n",
              "          0,   0,   0,   0,   0,   0,   0,   0,   0,   0,   0,   0,   0,\n",
              "          0,   0],\n",
              "       [  0,   0,   0,   0,   0,   0,   0,   0,   0,   0,   0,   0,   0,\n",
              "          0,   0,   0,   0,   0,   0,   0,   0,   0,   0,   0,   0,   0,\n",
              "          0,   0],\n",
              "       [  0,   0,   0,   0,   0,   0,   0,   0,   0,   0,   0,   0,   0,\n",
              "          0,   0,   0,   0,   0,   0,   0,   0,   0,   0,   0,   0,   0,\n",
              "          0,   0],\n",
              "       [  0,   0,   0,   0,   0,   0,   0,   0,   0,   0,   0,   0,   0,\n",
              "          0,   0,   0,   0,   0,   0,   0,   0,   0,   0,   0,   0,   0,\n",
              "          0,   0],\n",
              "       [  0,   0,   0,   0,   0,   0,   0,   0,   0,   0,   0,   0,   0,\n",
              "          0,   0,   0,   0,   0,   0,   0,   0,   0,   0,   0,   0,   0,\n",
              "          0,   0],\n",
              "       [  0,   0,   0,   0,   0,   0,   0,   0,   0,   0,   0,   0,   3,\n",
              "         18,  18,  18, 126, 136, 175,  26, 166, 255, 247, 127,   0,   0,\n",
              "          0,   0],\n",
              "       [  0,   0,   0,   0,   0,   0,   0,   0,  30,  36,  94, 154, 170,\n",
              "        253, 253, 253, 253, 253, 225, 172, 253, 242, 195,  64,   0,   0,\n",
              "          0,   0],\n",
              "       [  0,   0,   0,   0,   0,   0,   0,  49, 238, 253, 253, 253, 253,\n",
              "        253, 253, 253, 253, 251,  93,  82,  82,  56,  39,   0,   0,   0,\n",
              "          0,   0],\n",
              "       [  0,   0,   0,   0,   0,   0,   0,  18, 219, 253, 253, 253, 253,\n",
              "        253, 198, 182, 247, 241,   0,   0,   0,   0,   0,   0,   0,   0,\n",
              "          0,   0],\n",
              "       [  0,   0,   0,   0,   0,   0,   0,   0,  80, 156, 107, 253, 253,\n",
              "        205,  11,   0,  43, 154,   0,   0,   0,   0,   0,   0,   0,   0,\n",
              "          0,   0],\n",
              "       [  0,   0,   0,   0,   0,   0,   0,   0,   0,  14,   1, 154, 253,\n",
              "         90,   0,   0,   0,   0,   0,   0,   0,   0,   0,   0,   0,   0,\n",
              "          0,   0],\n",
              "       [  0,   0,   0,   0,   0,   0,   0,   0,   0,   0,   0, 139, 253,\n",
              "        190,   2,   0,   0,   0,   0,   0,   0,   0,   0,   0,   0,   0,\n",
              "          0,   0],\n",
              "       [  0,   0,   0,   0,   0,   0,   0,   0,   0,   0,   0,  11, 190,\n",
              "        253,  70,   0,   0,   0,   0,   0,   0,   0,   0,   0,   0,   0,\n",
              "          0,   0],\n",
              "       [  0,   0,   0,   0,   0,   0,   0,   0,   0,   0,   0,   0,  35,\n",
              "        241, 225, 160, 108,   1,   0,   0,   0,   0,   0,   0,   0,   0,\n",
              "          0,   0],\n",
              "       [  0,   0,   0,   0,   0,   0,   0,   0,   0,   0,   0,   0,   0,\n",
              "         81, 240, 253, 253, 119,  25,   0,   0,   0,   0,   0,   0,   0,\n",
              "          0,   0],\n",
              "       [  0,   0,   0,   0,   0,   0,   0,   0,   0,   0,   0,   0,   0,\n",
              "          0,  45, 186, 253, 253, 150,  27,   0,   0,   0,   0,   0,   0,\n",
              "          0,   0],\n",
              "       [  0,   0,   0,   0,   0,   0,   0,   0,   0,   0,   0,   0,   0,\n",
              "          0,   0,  16,  93, 252, 253, 187,   0,   0,   0,   0,   0,   0,\n",
              "          0,   0],\n",
              "       [  0,   0,   0,   0,   0,   0,   0,   0,   0,   0,   0,   0,   0,\n",
              "          0,   0,   0,   0, 249, 253, 249,  64,   0,   0,   0,   0,   0,\n",
              "          0,   0],\n",
              "       [  0,   0,   0,   0,   0,   0,   0,   0,   0,   0,   0,   0,   0,\n",
              "          0,  46, 130, 183, 253, 253, 207,   2,   0,   0,   0,   0,   0,\n",
              "          0,   0],\n",
              "       [  0,   0,   0,   0,   0,   0,   0,   0,   0,   0,   0,   0,  39,\n",
              "        148, 229, 253, 253, 253, 250, 182,   0,   0,   0,   0,   0,   0,\n",
              "          0,   0],\n",
              "       [  0,   0,   0,   0,   0,   0,   0,   0,   0,   0,  24, 114, 221,\n",
              "        253, 253, 253, 253, 201,  78,   0,   0,   0,   0,   0,   0,   0,\n",
              "          0,   0],\n",
              "       [  0,   0,   0,   0,   0,   0,   0,   0,  23,  66, 213, 253, 253,\n",
              "        253, 253, 198,  81,   2,   0,   0,   0,   0,   0,   0,   0,   0,\n",
              "          0,   0],\n",
              "       [  0,   0,   0,   0,   0,   0,  18, 171, 219, 253, 253, 253, 253,\n",
              "        195,  80,   9,   0,   0,   0,   0,   0,   0,   0,   0,   0,   0,\n",
              "          0,   0],\n",
              "       [  0,   0,   0,   0,  55, 172, 226, 253, 253, 253, 253, 244, 133,\n",
              "         11,   0,   0,   0,   0,   0,   0,   0,   0,   0,   0,   0,   0,\n",
              "          0,   0],\n",
              "       [  0,   0,   0,   0, 136, 253, 253, 253, 212, 135, 132,  16,   0,\n",
              "          0,   0,   0,   0,   0,   0,   0,   0,   0,   0,   0,   0,   0,\n",
              "          0,   0],\n",
              "       [  0,   0,   0,   0,   0,   0,   0,   0,   0,   0,   0,   0,   0,\n",
              "          0,   0,   0,   0,   0,   0,   0,   0,   0,   0,   0,   0,   0,\n",
              "          0,   0],\n",
              "       [  0,   0,   0,   0,   0,   0,   0,   0,   0,   0,   0,   0,   0,\n",
              "          0,   0,   0,   0,   0,   0,   0,   0,   0,   0,   0,   0,   0,\n",
              "          0,   0],\n",
              "       [  0,   0,   0,   0,   0,   0,   0,   0,   0,   0,   0,   0,   0,\n",
              "          0,   0,   0,   0,   0,   0,   0,   0,   0,   0,   0,   0,   0,\n",
              "          0,   0]], dtype=uint8)</pre></div><script>\n",
              "      (() => {\n",
              "      const titles = ['show data', 'hide data'];\n",
              "      let index = 0\n",
              "      document.querySelector('#id-46e8e65e-7ff1-4dfa-86aa-8245b4c3f3ce button').onclick = (e) => {\n",
              "        document.querySelector('#id-46e8e65e-7ff1-4dfa-86aa-8245b4c3f3ce').classList.toggle('show_array');\n",
              "        index = (++index) % 2;\n",
              "        document.querySelector('#id-46e8e65e-7ff1-4dfa-86aa-8245b4c3f3ce button').textContent = titles[index];\n",
              "        e.preventDefault();\n",
              "        e.stopPropagation();\n",
              "      }\n",
              "      })();\n",
              "    </script>"
            ]
          },
          "metadata": {},
          "execution_count": 8
        }
      ]
    },
    {
      "cell_type": "code",
      "source": [
        "import matplotlib.pyplot as plt\n",
        "plt.imshow(xtrain[0], cmap=\"grey\")\n",
        "plt.title(f\"Label : {ytrain[0]}\")\n",
        "plt.show()"
      ],
      "metadata": {
        "colab": {
          "base_uri": "https://localhost:8080/",
          "height": 452
        },
        "id": "fD2OpA4_5NXz",
        "outputId": "e9ff6526-1518-4ff0-ca1c-2333e6d382a7"
      },
      "execution_count": 9,
      "outputs": [
        {
          "output_type": "display_data",
          "data": {
            "text/plain": [
              "<Figure size 640x480 with 1 Axes>"
            ],
            "image/png": "[encoded data removed]"
          },
          "metadata": {}
        }
      ]
    },
    {
      "cell_type": "code",
      "source": [
        "import seaborn as sns\n",
        "plt.figure(figsize=(20, 20))\n",
        "sns.heatmap(xtrain[0], annot=True, fmt=\"d\")\n",
        "plt.show()"
      ],
      "metadata": {
        "colab": {
          "base_uri": "https://localhost:8080/",
          "height": 937
        },
        "id": "QrPRekDB9V0E",
        "outputId": "a1a1b1e7-6bf6-4f15-959f-e3acf60dd106"
      },
      "execution_count": 10,
      "outputs": [
        {
          "output_type": "display_data",
          "data": {
            "text/plain": [
              "<Figure size 2000x2000 with 2 Axes>"
            ],
            "image/png": "[encoded data removed]"
          },
          "metadata": {}
        }
      ]
    },
    {
      "cell_type": "markdown",
      "source": [
        "### Show first 9 images"
      ],
      "metadata": {
        "id": "6gjHk8Cv-PXx"
      }
    },
    {
      "cell_type": "code",
      "source": [
        "plt.figure(figsize=(10, 10))\n",
        "for i in range(9):\n",
        "    plt.subplot(3, 3, i+1)\n",
        "    plt.imshow(xtrain[i], cmap=\"gray\")\n",
        "    plt.title(f\"Label : {ytrain[i]}\")\n"
      ],
      "metadata": {
        "colab": {
          "base_uri": "https://localhost:8080/",
          "height": 853
        },
        "id": "Ax19LRFb-C_I",
        "outputId": "29a2ce3f-1011-4f22-ef9a-10c6702e9807"
      },
      "execution_count": 11,
      "outputs": [
        {
          "output_type": "display_data",
          "data": {
            "text/plain": [
              "<Figure size 1000x1000 with 9 Axes>"
            ],
            "image/png": "[encoded data removed]"
          },
          "metadata": {}
        }
      ]
    },
    {
      "cell_type": "code",
      "source": [
        "xtrain.shape"
      ],
      "metadata": {
        "colab": {
          "base_uri": "https://localhost:8080/"
        },
        "id": "iXkIf0ac-0Vq",
        "outputId": "de2a89ab-54a7-442e-909a-b4e441e99831"
      },
      "execution_count": 12,
      "outputs": [
        {
          "output_type": "execute_result",
          "data": {
            "text/plain": [
              "(60000, 28, 28)"
            ]
          },
          "metadata": {},
          "execution_count": 12
        }
      ]
    },
    {
      "cell_type": "code",
      "source": [
        "xtest.shape"
      ],
      "metadata": {
        "colab": {
          "base_uri": "https://localhost:8080/"
        },
        "id": "GlCnwOSE_I_s",
        "outputId": "3fd90ae5-43ab-4428-bdd3-bab37c4236cb"
      },
      "execution_count": 13,
      "outputs": [
        {
          "output_type": "execute_result",
          "data": {
            "text/plain": [
              "(10000, 28, 28)"
            ]
          },
          "metadata": {},
          "execution_count": 13
        }
      ]
    },
    {
      "cell_type": "markdown",
      "source": [
        "### Preprocess the data for training"
      ],
      "metadata": {
        "id": "uG06EPVc_gju"
      }
    },
    {
      "cell_type": "code",
      "source": [
        "xtrain_pre = xtrain.astype(float)/255\n",
        "xtest_pre = xtest.astype(float)/255"
      ],
      "metadata": {
        "id": "2ZKL9fBl_LTU"
      },
      "execution_count": 14,
      "outputs": []
    },
    {
      "cell_type": "code",
      "source": [
        "xtrain_pre[0]"
      ],
      "metadata": {
        "colab": {
          "base_uri": "https://localhost:8080/"
        },
        "id": "Ebj5Ld-U_1zE",
        "outputId": "51f20bd5-2caa-46ed-ca78-31559328cd07"
      },
      "execution_count": 15,
      "outputs": [
        {
          "output_type": "execute_result",
          "data": {
            "text/plain": [
              "array([[0.        , 0.        , 0.        , 0.        , 0.        ,\n",
              "        0.        , 0.        , 0.        , 0.        , 0.        ,\n",
              "        0.        , 0.        , 0.        , 0.        , 0.        ,\n",
              "        0.        , 0.        , 0.        , 0.        , 0.        ,\n",
              "        0.        , 0.        , 0.        , 0.        , 0.        ,\n",
              "        0.        , 0.        , 0.        ],\n",
              "       [0.        , 0.        , 0.        , 0.        , 0.        ,\n",
              "        0.        , 0.        , 0.        , 0.        , 0.        ,\n",
              "        0.        , 0.        , 0.        , 0.        , 0.        ,\n",
              "        0.        , 0.        , 0.        , 0.        , 0.        ,\n",
              "        0.        , 0.        , 0.        , 0.        , 0.        ,\n",
              "        0.        , 0.        , 0.        ],\n",
              "       [0.        , 0.        , 0.        , 0.        , 0.        ,\n",
              "        0.        , 0.        , 0.        , 0.        , 0.        ,\n",
              "        0.        , 0.        , 0.        , 0.        , 0.        ,\n",
              "        0.        , 0.        , 0.        , 0.        , 0.        ,\n",
              "        0.        , 0.        , 0.        , 0.        , 0.        ,\n",
              "        0.        , 0.        , 0.        ],\n",
              "       [0.        , 0.        , 0.        , 0.        , 0.        ,\n",
              "        0.        , 0.        , 0.        , 0.        , 0.        ,\n",
              "        0.        , 0.        , 0.        , 0.        , 0.        ,\n",
              "        0.        , 0.        , 0.        , 0.        , 0.        ,\n",
              "        0.        , 0.        , 0.        , 0.        , 0.        ,\n",
              "        0.        , 0.        , 0.        ],\n",
              "       [0.        , 0.        , 0.        , 0.        , 0.        ,\n",
              "        0.        , 0.        , 0.        , 0.        , 0.        ,\n",
              "        0.        , 0.        , 0.        , 0.        , 0.        ,\n",
              "        0.        , 0.        , 0.        , 0.        , 0.        ,\n",
              "        0.        , 0.        , 0.        , 0.        , 0.        ,\n",
              "        0.        , 0.        , 0.        ],\n",
              "       [0.        , 0.        , 0.        , 0.        , 0.        ,\n",
              "        0.        , 0.        , 0.        , 0.        , 0.        ,\n",
              "        0.        , 0.        , 0.01176471, 0.07058824, 0.07058824,\n",
              "        0.07058824, 0.49411765, 0.53333333, 0.68627451, 0.10196078,\n",
              "        0.65098039, 1.        , 0.96862745, 0.49803922, 0.        ,\n",
              "        0.        , 0.        , 0.        ],\n",
              "       [0.        , 0.        , 0.        , 0.        , 0.        ,\n",
              "        0.        , 0.        , 0.        , 0.11764706, 0.14117647,\n",
              "        0.36862745, 0.60392157, 0.66666667, 0.99215686, 0.99215686,\n",
              "        0.99215686, 0.99215686, 0.99215686, 0.88235294, 0.6745098 ,\n",
              "        0.99215686, 0.94901961, 0.76470588, 0.25098039, 0.        ,\n",
              "        0.        , 0.        , 0.        ],\n",
              "       [0.        , 0.        , 0.        , 0.        , 0.        ,\n",
              "        0.        , 0.        , 0.19215686, 0.93333333, 0.99215686,\n",
              "        0.99215686, 0.99215686, 0.99215686, 0.99215686, 0.99215686,\n",
              "        0.99215686, 0.99215686, 0.98431373, 0.36470588, 0.32156863,\n",
              "        0.32156863, 0.21960784, 0.15294118, 0.        , 0.        ,\n",
              "        0.        , 0.        , 0.        ],\n",
              "       [0.        , 0.        , 0.        , 0.        , 0.        ,\n",
              "        0.        , 0.        , 0.07058824, 0.85882353, 0.99215686,\n",
              "        0.99215686, 0.99215686, 0.99215686, 0.99215686, 0.77647059,\n",
              "        0.71372549, 0.96862745, 0.94509804, 0.        , 0.        ,\n",
              "        0.        , 0.        , 0.        , 0.        , 0.        ,\n",
              "        0.        , 0.        , 0.        ],\n",
              "       [0.        , 0.        , 0.        , 0.        , 0.        ,\n",
              "        0.        , 0.        , 0.        , 0.31372549, 0.61176471,\n",
              "        0.41960784, 0.99215686, 0.99215686, 0.80392157, 0.04313725,\n",
              "        0.        , 0.16862745, 0.60392157, 0.        , 0.        ,\n",
              "        0.        , 0.        , 0.        , 0.        , 0.        ,\n",
              "        0.        , 0.        , 0.        ],\n",
              "       [0.        , 0.        , 0.        , 0.        , 0.        ,\n",
              "        0.        , 0.        , 0.        , 0.        , 0.05490196,\n",
              "        0.00392157, 0.60392157, 0.99215686, 0.35294118, 0.        ,\n",
              "        0.        , 0.        , 0.        , 0.        , 0.        ,\n",
              "        0.        , 0.        , 0.        , 0.        , 0.        ,\n",
              "        0.        , 0.        , 0.        ],\n",
              "       [0.        , 0.        , 0.        , 0.        , 0.        ,\n",
              "        0.        , 0.        , 0.        , 0.        , 0.        ,\n",
              "        0.        , 0.54509804, 0.99215686, 0.74509804, 0.00784314,\n",
              "        0.        , 0.        , 0.        , 0.        , 0.        ,\n",
              "        0.        , 0.        , 0.        , 0.        , 0.        ,\n",
              "        0.        , 0.        , 0.        ],\n",
              "       [0.        , 0.        , 0.        , 0.        , 0.        ,\n",
              "        0.        , 0.        , 0.        , 0.        , 0.        ,\n",
              "        0.        , 0.04313725, 0.74509804, 0.99215686, 0.2745098 ,\n",
              "        0.        , 0.        , 0.        , 0.        , 0.        ,\n",
              "        0.        , 0.        , 0.        , 0.        , 0.        ,\n",
              "        0.        , 0.        , 0.        ],\n",
              "       [0.        , 0.        , 0.        , 0.        , 0.        ,\n",
              "        0.        , 0.        , 0.        , 0.        , 0.        ,\n",
              "        0.        , 0.        , 0.1372549 , 0.94509804, 0.88235294,\n",
              "        0.62745098, 0.42352941, 0.00392157, 0.        , 0.        ,\n",
              "        0.        , 0.        , 0.        , 0.        , 0.        ,\n",
              "        0.        , 0.        , 0.        ],\n",
              "       [0.        , 0.        , 0.        , 0.        , 0.        ,\n",
              "        0.        , 0.        , 0.        , 0.        , 0.        ,\n",
              "        0.        , 0.        , 0.        , 0.31764706, 0.94117647,\n",
              "        0.99215686, 0.99215686, 0.46666667, 0.09803922, 0.        ,\n",
              "        0.        , 0.        , 0.        , 0.        , 0.        ,\n",
              "        0.        , 0.        , 0.        ],\n",
              "       [0.        , 0.        , 0.        , 0.        , 0.        ,\n",
              "        0.        , 0.        , 0.        , 0.        , 0.        ,\n",
              "        0.        , 0.        , 0.        , 0.        , 0.17647059,\n",
              "        0.72941176, 0.99215686, 0.99215686, 0.58823529, 0.10588235,\n",
              "        0.        , 0.        , 0.        , 0.        , 0.        ,\n",
              "        0.        , 0.        , 0.        ],\n",
              "       [0.        , 0.        , 0.        , 0.        , 0.        ,\n",
              "        0.        , 0.        , 0.        , 0.        , 0.        ,\n",
              "        0.        , 0.        , 0.        , 0.        , 0.        ,\n",
              "        0.0627451 , 0.36470588, 0.98823529, 0.99215686, 0.73333333,\n",
              "        0.        , 0.        , 0.        , 0.        , 0.        ,\n",
              "        0.        , 0.        , 0.        ],\n",
              "       [0.        , 0.        , 0.        , 0.        , 0.        ,\n",
              "        0.        , 0.        , 0.        , 0.        , 0.        ,\n",
              "        0.        , 0.        , 0.        , 0.        , 0.        ,\n",
              "        0.        , 0.        , 0.97647059, 0.99215686, 0.97647059,\n",
              "        0.25098039, 0.        , 0.        , 0.        , 0.        ,\n",
              "        0.        , 0.        , 0.        ],\n",
              "       [0.        , 0.        , 0.        , 0.        , 0.        ,\n",
              "        0.        , 0.        , 0.        , 0.        , 0.        ,\n",
              "        0.        , 0.        , 0.        , 0.        , 0.18039216,\n",
              "        0.50980392, 0.71764706, 0.99215686, 0.99215686, 0.81176471,\n",
              "        0.00784314, 0.        , 0.        , 0.        , 0.        ,\n",
              "        0.        , 0.        , 0.        ],\n",
              "       [0.        , 0.        , 0.        , 0.        , 0.        ,\n",
              "        0.        , 0.        , 0.        , 0.        , 0.        ,\n",
              "        0.        , 0.        , 0.15294118, 0.58039216, 0.89803922,\n",
              "        0.99215686, 0.99215686, 0.99215686, 0.98039216, 0.71372549,\n",
              "        0.        , 0.        , 0.        , 0.        , 0.        ,\n",
              "        0.        , 0.        , 0.        ],\n",
              "       [0.        , 0.        , 0.        , 0.        , 0.        ,\n",
              "        0.        , 0.        , 0.        , 0.        , 0.        ,\n",
              "        0.09411765, 0.44705882, 0.86666667, 0.99215686, 0.99215686,\n",
              "        0.99215686, 0.99215686, 0.78823529, 0.30588235, 0.        ,\n",
              "        0.        , 0.        , 0.        , 0.        , 0.        ,\n",
              "        0.        , 0.        , 0.        ],\n",
              "       [0.        , 0.        , 0.        , 0.        , 0.        ,\n",
              "        0.        , 0.        , 0.        , 0.09019608, 0.25882353,\n",
              "        0.83529412, 0.99215686, 0.99215686, 0.99215686, 0.99215686,\n",
              "        0.77647059, 0.31764706, 0.00784314, 0.        , 0.        ,\n",
              "        0.        , 0.        , 0.        , 0.        , 0.        ,\n",
              "        0.        , 0.        , 0.        ],\n",
              "       [0.        , 0.        , 0.        , 0.        , 0.        ,\n",
              "        0.        , 0.07058824, 0.67058824, 0.85882353, 0.99215686,\n",
              "        0.99215686, 0.99215686, 0.99215686, 0.76470588, 0.31372549,\n",
              "        0.03529412, 0.        , 0.        , 0.        , 0.        ,\n",
              "        0.        , 0.        , 0.        , 0.        , 0.        ,\n",
              "        0.        , 0.        , 0.        ],\n",
              "       [0.        , 0.        , 0.        , 0.        , 0.21568627,\n",
              "        0.6745098 , 0.88627451, 0.99215686, 0.99215686, 0.99215686,\n",
              "        0.99215686, 0.95686275, 0.52156863, 0.04313725, 0.        ,\n",
              "        0.        , 0.        , 0.        , 0.        , 0.        ,\n",
              "        0.        , 0.        , 0.        , 0.        , 0.        ,\n",
              "        0.        , 0.        , 0.        ],\n",
              "       [0.        , 0.        , 0.        , 0.        , 0.53333333,\n",
              "        0.99215686, 0.99215686, 0.99215686, 0.83137255, 0.52941176,\n",
              "        0.51764706, 0.0627451 , 0.        , 0.        , 0.        ,\n",
              "        0.        , 0.        , 0.        , 0.        , 0.        ,\n",
              "        0.        , 0.        , 0.        , 0.        , 0.        ,\n",
              "        0.        , 0.        , 0.        ],\n",
              "       [0.        , 0.        , 0.        , 0.        , 0.        ,\n",
              "        0.        , 0.        , 0.        , 0.        , 0.        ,\n",
              "        0.        , 0.        , 0.        , 0.        , 0.        ,\n",
              "        0.        , 0.        , 0.        , 0.        , 0.        ,\n",
              "        0.        , 0.        , 0.        , 0.        , 0.        ,\n",
              "        0.        , 0.        , 0.        ],\n",
              "       [0.        , 0.        , 0.        , 0.        , 0.        ,\n",
              "        0.        , 0.        , 0.        , 0.        , 0.        ,\n",
              "        0.        , 0.        , 0.        , 0.        , 0.        ,\n",
              "        0.        , 0.        , 0.        , 0.        , 0.        ,\n",
              "        0.        , 0.        , 0.        , 0.        , 0.        ,\n",
              "        0.        , 0.        , 0.        ],\n",
              "       [0.        , 0.        , 0.        , 0.        , 0.        ,\n",
              "        0.        , 0.        , 0.        , 0.        , 0.        ,\n",
              "        0.        , 0.        , 0.        , 0.        , 0.        ,\n",
              "        0.        , 0.        , 0.        , 0.        , 0.        ,\n",
              "        0.        , 0.        , 0.        , 0.        , 0.        ,\n",
              "        0.        , 0.        , 0.        ]])"
            ]
          },
          "metadata": {},
          "execution_count": 15
        }
      ]
    },
    {
      "cell_type": "code",
      "source": [
        "xtest_pre[0]"
      ],
      "metadata": {
        "colab": {
          "base_uri": "https://localhost:8080/"
        },
        "id": "I0vvw7pc_7qQ",
        "outputId": "38b372da-88d9-4b10-bd23-de59a7b1173f"
      },
      "execution_count": 16,
      "outputs": [
        {
          "output_type": "execute_result",
          "data": {
            "text/plain": [
              "array([[0.        , 0.        , 0.        , 0.        , 0.        ,\n",
              "        0.        , 0.        , 0.        , 0.        , 0.        ,\n",
              "        0.        , 0.        , 0.        , 0.        , 0.        ,\n",
              "        0.        , 0.        , 0.        , 0.        , 0.        ,\n",
              "        0.        , 0.        , 0.        , 0.        , 0.        ,\n",
              "        0.        , 0.        , 0.        ],\n",
              "       [0.        , 0.        , 0.        , 0.        , 0.        ,\n",
              "        0.        , 0.        , 0.        , 0.        , 0.        ,\n",
              "        0.        , 0.        , 0.        , 0.        , 0.        ,\n",
              "        0.        , 0.        , 0.        , 0.        , 0.        ,\n",
              "        0.        , 0.        , 0.        , 0.        , 0.        ,\n",
              "        0.        , 0.        , 0.        ],\n",
              "       [0.        , 0.        , 0.        , 0.        , 0.        ,\n",
              "        0.        , 0.        , 0.        , 0.        , 0.        ,\n",
              "        0.        , 0.        , 0.        , 0.        , 0.        ,\n",
              "        0.        , 0.        , 0.        , 0.        , 0.        ,\n",
              "        0.        , 0.        , 0.        , 0.        , 0.        ,\n",
              "        0.        , 0.        , 0.        ],\n",
              "       [0.        , 0.        , 0.        , 0.        , 0.        ,\n",
              "        0.        , 0.        , 0.        , 0.        , 0.        ,\n",
              "        0.        , 0.        , 0.        , 0.        , 0.        ,\n",
              "        0.        , 0.        , 0.        , 0.        , 0.        ,\n",
              "        0.        , 0.        , 0.        , 0.        , 0.        ,\n",
              "        0.        , 0.        , 0.        ],\n",
              "       [0.        , 0.        , 0.        , 0.        , 0.        ,\n",
              "        0.        , 0.        , 0.        , 0.        , 0.        ,\n",
              "        0.        , 0.        , 0.        , 0.        , 0.        ,\n",
              "        0.        , 0.        , 0.        , 0.        , 0.        ,\n",
              "        0.        , 0.        , 0.        , 0.        , 0.        ,\n",
              "        0.        , 0.        , 0.        ],\n",
              "       [0.        , 0.        , 0.        , 0.        , 0.        ,\n",
              "        0.        , 0.        , 0.        , 0.        , 0.        ,\n",
              "        0.        , 0.        , 0.        , 0.        , 0.        ,\n",
              "        0.        , 0.        , 0.        , 0.        , 0.        ,\n",
              "        0.        , 0.        , 0.        , 0.        , 0.        ,\n",
              "        0.        , 0.        , 0.        ],\n",
              "       [0.        , 0.        , 0.        , 0.        , 0.        ,\n",
              "        0.        , 0.        , 0.        , 0.        , 0.        ,\n",
              "        0.        , 0.        , 0.        , 0.        , 0.        ,\n",
              "        0.        , 0.        , 0.        , 0.        , 0.        ,\n",
              "        0.        , 0.        , 0.        , 0.        , 0.        ,\n",
              "        0.        , 0.        , 0.        ],\n",
              "       [0.        , 0.        , 0.        , 0.        , 0.        ,\n",
              "        0.        , 0.32941176, 0.7254902 , 0.62352941, 0.59215686,\n",
              "        0.23529412, 0.14117647, 0.        , 0.        , 0.        ,\n",
              "        0.        , 0.        , 0.        , 0.        , 0.        ,\n",
              "        0.        , 0.        , 0.        , 0.        , 0.        ,\n",
              "        0.        , 0.        , 0.        ],\n",
              "       [0.        , 0.        , 0.        , 0.        , 0.        ,\n",
              "        0.        , 0.87058824, 0.99607843, 0.99607843, 0.99607843,\n",
              "        0.99607843, 0.94509804, 0.77647059, 0.77647059, 0.77647059,\n",
              "        0.77647059, 0.77647059, 0.77647059, 0.77647059, 0.77647059,\n",
              "        0.66666667, 0.20392157, 0.        , 0.        , 0.        ,\n",
              "        0.        , 0.        , 0.        ],\n",
              "       [0.        , 0.        , 0.        , 0.        , 0.        ,\n",
              "        0.        , 0.2627451 , 0.44705882, 0.28235294, 0.44705882,\n",
              "        0.63921569, 0.89019608, 0.99607843, 0.88235294, 0.99607843,\n",
              "        0.99607843, 0.99607843, 0.98039216, 0.89803922, 0.99607843,\n",
              "        0.99607843, 0.54901961, 0.        , 0.        , 0.        ,\n",
              "        0.        , 0.        , 0.        ],\n",
              "       [0.        , 0.        , 0.        , 0.        , 0.        ,\n",
              "        0.        , 0.        , 0.        , 0.        , 0.        ,\n",
              "        0.        , 0.06666667, 0.25882353, 0.05490196, 0.2627451 ,\n",
              "        0.2627451 , 0.2627451 , 0.23137255, 0.08235294, 0.9254902 ,\n",
              "        0.99607843, 0.41568627, 0.        , 0.        , 0.        ,\n",
              "        0.        , 0.        , 0.        ],\n",
              "       [0.        , 0.        , 0.        , 0.        , 0.        ,\n",
              "        0.        , 0.        , 0.        , 0.        , 0.        ,\n",
              "        0.        , 0.        , 0.        , 0.        , 0.        ,\n",
              "        0.        , 0.        , 0.        , 0.3254902 , 0.99215686,\n",
              "        0.81960784, 0.07058824, 0.        , 0.        , 0.        ,\n",
              "        0.        , 0.        , 0.        ],\n",
              "       [0.        , 0.        , 0.        , 0.        , 0.        ,\n",
              "        0.        , 0.        , 0.        , 0.        , 0.        ,\n",
              "        0.        , 0.        , 0.        , 0.        , 0.        ,\n",
              "        0.        , 0.        , 0.08627451, 0.91372549, 1.        ,\n",
              "        0.3254902 , 0.        , 0.        , 0.        , 0.        ,\n",
              "        0.        , 0.        , 0.        ],\n",
              "       [0.        , 0.        , 0.        , 0.        , 0.        ,\n",
              "        0.        , 0.        , 0.        , 0.        , 0.        ,\n",
              "        0.        , 0.        , 0.        , 0.        , 0.        ,\n",
              "        0.        , 0.        , 0.50588235, 0.99607843, 0.93333333,\n",
              "        0.17254902, 0.        , 0.        , 0.        , 0.        ,\n",
              "        0.        , 0.        , 0.        ],\n",
              "       [0.        , 0.        , 0.        , 0.        , 0.        ,\n",
              "        0.        , 0.        , 0.        , 0.        , 0.        ,\n",
              "        0.        , 0.        , 0.        , 0.        , 0.        ,\n",
              "        0.        , 0.23137255, 0.97647059, 0.99607843, 0.24313725,\n",
              "        0.        , 0.        , 0.        , 0.        , 0.        ,\n",
              "        0.        , 0.        , 0.        ],\n",
              "       [0.        , 0.        , 0.        , 0.        , 0.        ,\n",
              "        0.        , 0.        , 0.        , 0.        , 0.        ,\n",
              "        0.        , 0.        , 0.        , 0.        , 0.        ,\n",
              "        0.        , 0.52156863, 0.99607843, 0.73333333, 0.01960784,\n",
              "        0.        , 0.        , 0.        , 0.        , 0.        ,\n",
              "        0.        , 0.        , 0.        ],\n",
              "       [0.        , 0.        , 0.        , 0.        , 0.        ,\n",
              "        0.        , 0.        , 0.        , 0.        , 0.        ,\n",
              "        0.        , 0.        , 0.        , 0.        , 0.        ,\n",
              "        0.03529412, 0.80392157, 0.97254902, 0.22745098, 0.        ,\n",
              "        0.        , 0.        , 0.        , 0.        , 0.        ,\n",
              "        0.        , 0.        , 0.        ],\n",
              "       [0.        , 0.        , 0.        , 0.        , 0.        ,\n",
              "        0.        , 0.        , 0.        , 0.        , 0.        ,\n",
              "        0.        , 0.        , 0.        , 0.        , 0.        ,\n",
              "        0.49411765, 0.99607843, 0.71372549, 0.        , 0.        ,\n",
              "        0.        , 0.        , 0.        , 0.        , 0.        ,\n",
              "        0.        , 0.        , 0.        ],\n",
              "       [0.        , 0.        , 0.        , 0.        , 0.        ,\n",
              "        0.        , 0.        , 0.        , 0.        , 0.        ,\n",
              "        0.        , 0.        , 0.        , 0.        , 0.29411765,\n",
              "        0.98431373, 0.94117647, 0.22352941, 0.        , 0.        ,\n",
              "        0.        , 0.        , 0.        , 0.        , 0.        ,\n",
              "        0.        , 0.        , 0.        ],\n",
              "       [0.        , 0.        , 0.        , 0.        , 0.        ,\n",
              "        0.        , 0.        , 0.        , 0.        , 0.        ,\n",
              "        0.        , 0.        , 0.        , 0.0745098 , 0.86666667,\n",
              "        0.99607843, 0.65098039, 0.        , 0.        , 0.        ,\n",
              "        0.        , 0.        , 0.        , 0.        , 0.        ,\n",
              "        0.        , 0.        , 0.        ],\n",
              "       [0.        , 0.        , 0.        , 0.        , 0.        ,\n",
              "        0.        , 0.        , 0.        , 0.        , 0.        ,\n",
              "        0.        , 0.        , 0.01176471, 0.79607843, 0.99607843,\n",
              "        0.85882353, 0.1372549 , 0.        , 0.        , 0.        ,\n",
              "        0.        , 0.        , 0.        , 0.        , 0.        ,\n",
              "        0.        , 0.        , 0.        ],\n",
              "       [0.        , 0.        , 0.        , 0.        , 0.        ,\n",
              "        0.        , 0.        , 0.        , 0.        , 0.        ,\n",
              "        0.        , 0.        , 0.14901961, 0.99607843, 0.99607843,\n",
              "        0.30196078, 0.        , 0.        , 0.        , 0.        ,\n",
              "        0.        , 0.        , 0.        , 0.        , 0.        ,\n",
              "        0.        , 0.        , 0.        ],\n",
              "       [0.        , 0.        , 0.        , 0.        , 0.        ,\n",
              "        0.        , 0.        , 0.        , 0.        , 0.        ,\n",
              "        0.        , 0.12156863, 0.87843137, 0.99607843, 0.45098039,\n",
              "        0.00392157, 0.        , 0.        , 0.        , 0.        ,\n",
              "        0.        , 0.        , 0.        , 0.        , 0.        ,\n",
              "        0.        , 0.        , 0.        ],\n",
              "       [0.        , 0.        , 0.        , 0.        , 0.        ,\n",
              "        0.        , 0.        , 0.        , 0.        , 0.        ,\n",
              "        0.        , 0.52156863, 0.99607843, 0.99607843, 0.20392157,\n",
              "        0.        , 0.        , 0.        , 0.        , 0.        ,\n",
              "        0.        , 0.        , 0.        , 0.        , 0.        ,\n",
              "        0.        , 0.        , 0.        ],\n",
              "       [0.        , 0.        , 0.        , 0.        , 0.        ,\n",
              "        0.        , 0.        , 0.        , 0.        , 0.        ,\n",
              "        0.23921569, 0.94901961, 0.99607843, 0.99607843, 0.20392157,\n",
              "        0.        , 0.        , 0.        , 0.        , 0.        ,\n",
              "        0.        , 0.        , 0.        , 0.        , 0.        ,\n",
              "        0.        , 0.        , 0.        ],\n",
              "       [0.        , 0.        , 0.        , 0.        , 0.        ,\n",
              "        0.        , 0.        , 0.        , 0.        , 0.        ,\n",
              "        0.4745098 , 0.99607843, 0.99607843, 0.85882353, 0.15686275,\n",
              "        0.        , 0.        , 0.        , 0.        , 0.        ,\n",
              "        0.        , 0.        , 0.        , 0.        , 0.        ,\n",
              "        0.        , 0.        , 0.        ],\n",
              "       [0.        , 0.        , 0.        , 0.        , 0.        ,\n",
              "        0.        , 0.        , 0.        , 0.        , 0.        ,\n",
              "        0.4745098 , 0.99607843, 0.81176471, 0.07058824, 0.        ,\n",
              "        0.        , 0.        , 0.        , 0.        , 0.        ,\n",
              "        0.        , 0.        , 0.        , 0.        , 0.        ,\n",
              "        0.        , 0.        , 0.        ],\n",
              "       [0.        , 0.        , 0.        , 0.        , 0.        ,\n",
              "        0.        , 0.        , 0.        , 0.        , 0.        ,\n",
              "        0.        , 0.        , 0.        , 0.        , 0.        ,\n",
              "        0.        , 0.        , 0.        , 0.        , 0.        ,\n",
              "        0.        , 0.        , 0.        , 0.        , 0.        ,\n",
              "        0.        , 0.        , 0.        ]])"
            ]
          },
          "metadata": {},
          "execution_count": 16
        }
      ]
    },
    {
      "cell_type": "code",
      "source": [
        "from keras.utils import to_categorical\n",
        "ytrain_pre = to_categorical(ytrain)\n",
        "ytest_pre = to_categorical(ytest)"
      ],
      "metadata": {
        "id": "IP9XFSUOZDvD"
      },
      "execution_count": 17,
      "outputs": []
    },
    {
      "cell_type": "code",
      "source": [
        "ytrain[0]"
      ],
      "metadata": {
        "colab": {
          "base_uri": "https://localhost:8080/"
        },
        "id": "_ccIokGkZNqo",
        "outputId": "f1e07a09-fac5-4fa1-af29-83c35f711ba3"
      },
      "execution_count": 18,
      "outputs": [
        {
          "output_type": "execute_result",
          "data": {
            "text/plain": [
              "5"
            ]
          },
          "metadata": {},
          "execution_count": 18
        }
      ]
    },
    {
      "cell_type": "code",
      "source": [
        "ytrain_pre[0]"
      ],
      "metadata": {
        "colab": {
          "base_uri": "https://localhost:8080/"
        },
        "id": "YGeEB9azZTlw",
        "outputId": "2fe9cba5-3162-452e-81f2-78825b780a3e"
      },
      "execution_count": 19,
      "outputs": [
        {
          "output_type": "execute_result",
          "data": {
            "text/plain": [
              "array([0., 0., 0., 0., 0., 1., 0., 0., 0., 0.])"
            ]
          },
          "metadata": {},
          "execution_count": 19
        }
      ]
    },
    {
      "cell_type": "code",
      "source": [
        "ytest[0]"
      ],
      "metadata": {
        "colab": {
          "base_uri": "https://localhost:8080/"
        },
        "id": "zoQenX5sZr27",
        "outputId": "72400eb7-4250-4dad-e7e2-35fe9d6f544c"
      },
      "execution_count": 20,
      "outputs": [
        {
          "output_type": "execute_result",
          "data": {
            "text/plain": [
              "7"
            ]
          },
          "metadata": {},
          "execution_count": 20
        }
      ]
    },
    {
      "cell_type": "code",
      "source": [
        "ytest_pre[0]"
      ],
      "metadata": {
        "colab": {
          "base_uri": "https://localhost:8080/"
        },
        "id": "A1ccqzDNZvDz",
        "outputId": "e4bc3e7e-67b5-4fe9-8fc2-ebaf5accb646"
      },
      "execution_count": 21,
      "outputs": [
        {
          "output_type": "execute_result",
          "data": {
            "text/plain": [
              "array([0., 0., 0., 0., 0., 0., 0., 1., 0., 0.])"
            ]
          },
          "metadata": {},
          "execution_count": 21
        }
      ]
    },
    {
      "cell_type": "markdown",
      "source": [
        "### Build the CNN"
      ],
      "metadata": {
        "id": "kYD35Shpmb7g"
      }
    },
    {
      "cell_type": "code",
      "source": [
        "xtrain.shape"
      ],
      "metadata": {
        "colab": {
          "base_uri": "https://localhost:8080/"
        },
        "id": "makaThAEmhKn",
        "outputId": "b216fb46-75cc-43af-b3d9-79b9b8ddeeb4"
      },
      "execution_count": 22,
      "outputs": [
        {
          "output_type": "execute_result",
          "data": {
            "text/plain": [
              "(60000, 28, 28)"
            ]
          },
          "metadata": {},
          "execution_count": 22
        }
      ]
    },
    {
      "cell_type": "code",
      "source": [
        "input_shape = (28, 28, 1)"
      ],
      "metadata": {
        "id": "IRkUsJGsDTbB"
      },
      "execution_count": 23,
      "outputs": []
    },
    {
      "cell_type": "markdown",
      "source": [
        "![image.png](data:image/png;base64,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)"
      ],
      "metadata": {
        "id": "a5ZEkcTzH8Rg"
      }
    },
    {
      "cell_type": "code",
      "source": [
        "import numpy as np\n",
        "np.unique(ytrain)"
      ],
      "metadata": {
        "colab": {
          "base_uri": "https://localhost:8080/"
        },
        "id": "5y2EG7DuYxVn",
        "outputId": "a28fcaca-1ad4-43eb-fd06-7c91f123f188"
      },
      "execution_count": 24,
      "outputs": [
        {
          "output_type": "execute_result",
          "data": {
            "text/plain": [
              "array([0, 1, 2, 3, 4, 5, 6, 7, 8, 9], dtype=uint8)"
            ]
          },
          "metadata": {},
          "execution_count": 24
        }
      ]
    },
    {
      "cell_type": "code",
      "source": [
        "output_labels = len(np.unique(ytrain))\n",
        "output_labels"
      ],
      "metadata": {
        "colab": {
          "base_uri": "https://localhost:8080/"
        },
        "id": "FQ7ExvgugLhJ",
        "outputId": "87ebf8e4-e577-4d62-c4c5-bbb2172fc714"
      },
      "execution_count": 25,
      "outputs": [
        {
          "output_type": "execute_result",
          "data": {
            "text/plain": [
              "10"
            ]
          },
          "metadata": {},
          "execution_count": 25
        }
      ]
    },
    {
      "cell_type": "code",
      "source": [
        "from keras.models import Sequential\n",
        "from keras.layers import Convolution2D, MaxPooling2D, Flatten, Dense, Dropout, Input\n",
        "from keras.utils import to_categorical"
      ],
      "metadata": {
        "id": "TIvpZYHPgCIR"
      },
      "execution_count": 26,
      "outputs": []
    },
    {
      "cell_type": "code",
      "source": [
        "# Initialize the model\n",
        "model = Sequential()\n",
        "\n",
        "# Provide the input layer\n",
        "model.add(Input(shape=input_shape))\n",
        "\n",
        "# First convolution layer\n",
        "model.add(Convolution2D(filters=32, kernel_size=(3, 3), activation=\"relu\"))\n",
        "\n",
        "# First Max pooling layer\n",
        "model.add(MaxPooling2D(pool_size=(2, 2)))\n",
        "\n",
        "# Second convolution layer\n",
        "model.add(Convolution2D(filters=64, kernel_size=(3, 3), activation=\"relu\"))\n",
        "\n",
        "# Second Max pooling layer\n",
        "model.add(MaxPooling2D(pool_size=(2, 2)))\n",
        "\n",
        "# Flatten layer\n",
        "model.add(Flatten())\n",
        "\n",
        "# Add dropout layer\n",
        "model.add(Dropout(rate=0.5))\n",
        "\n",
        "# Add softmax output layer for multiclass classification\n",
        "model.add(Dense(units=output_labels, activation=\"softmax\"))"
      ],
      "metadata": {
        "id": "vkpSeRAeEwEG"
      },
      "execution_count": 27,
      "outputs": []
    },
    {
      "cell_type": "code",
      "source": [
        "model.summary()"
      ],
      "metadata": {
        "colab": {
          "base_uri": "https://localhost:8080/",
          "height": 353
        },
        "id": "lOOsdPOigv2Z",
        "outputId": "17ad3337-9e77-4b4a-c1ef-858b9023a403"
      },
      "execution_count": 28,
      "outputs": [
        {
          "output_type": "display_data",
          "data": {
            "text/plain": [
              "\u001b[1mModel: \"sequential\"\u001b[0m\n"
            ],
            "text/html": [
              "<pre style=\"white-space:pre;overflow-x:auto;line-height:normal;font-family:Menlo,'DejaVu Sans Mono',consolas,'Courier New',monospace\"><span style=\"font-weight: bold\">Model: \"sequential\"</span>\n",
              "</pre>\n"
            ]
          },
          "metadata": {}
        },
        {
          "output_type": "display_data",
          "data": {
            "text/plain": [
              "┏━━━━━━━━━━━━━━━━━━━━━━━━━━━━━━━━━━━━━━┳━━━━━━━━━━━━━━━━━━━━━━━━━━━━━┳━━━━━━━━━━━━━━━━━┓\n",
              "┃\u001b[1m \u001b[0m\u001b[1mLayer (type)                        \u001b[0m\u001b[1m \u001b[0m┃\u001b[1m \u001b[0m\u001b[1mOutput Shape               \u001b[0m\u001b[1m \u001b[0m┃\u001b[1m \u001b[0m\u001b[1m        Param #\u001b[0m\u001b[1m \u001b[0m┃\n",
              "┡━━━━━━━━━━━━━━━━━━━━━━━━━━━━━━━━━━━━━━╇━━━━━━━━━━━━━━━━━━━━━━━━━━━━━╇━━━━━━━━━━━━━━━━━┩\n",
              "│ conv2d (\u001b[38;5;33mConv2D\u001b[0m)                      │ (\u001b[38;5;45mNone\u001b[0m, \u001b[38;5;34m26\u001b[0m, \u001b[38;5;34m26\u001b[0m, \u001b[38;5;34m32\u001b[0m)          │             \u001b[38;5;34m320\u001b[0m │\n",
              "├──────────────────────────────────────┼─────────────────────────────┼─────────────────┤\n",
              "│ max_pooling2d (\u001b[38;5;33mMaxPooling2D\u001b[0m)         │ (\u001b[38;5;45mNone\u001b[0m, \u001b[38;5;34m13\u001b[0m, \u001b[38;5;34m13\u001b[0m, \u001b[38;5;34m32\u001b[0m)          │               \u001b[38;5;34m0\u001b[0m │\n",
              "├──────────────────────────────────────┼─────────────────────────────┼─────────────────┤\n",
              "│ conv2d_1 (\u001b[38;5;33mConv2D\u001b[0m)                    │ (\u001b[38;5;45mNone\u001b[0m, \u001b[38;5;34m11\u001b[0m, \u001b[38;5;34m11\u001b[0m, \u001b[38;5;34m64\u001b[0m)          │          \u001b[38;5;34m18,496\u001b[0m │\n",
              "├──────────────────────────────────────┼─────────────────────────────┼─────────────────┤\n",
              "│ max_pooling2d_1 (\u001b[38;5;33mMaxPooling2D\u001b[0m)       │ (\u001b[38;5;45mNone\u001b[0m, \u001b[38;5;34m5\u001b[0m, \u001b[38;5;34m5\u001b[0m, \u001b[38;5;34m64\u001b[0m)            │               \u001b[38;5;34m0\u001b[0m │\n",
              "├──────────────────────────────────────┼─────────────────────────────┼─────────────────┤\n",
              "│ flatten (\u001b[38;5;33mFlatten\u001b[0m)                    │ (\u001b[38;5;45mNone\u001b[0m, \u001b[38;5;34m1600\u001b[0m)                │               \u001b[38;5;34m0\u001b[0m │\n",
              "├──────────────────────────────────────┼─────────────────────────────┼─────────────────┤\n",
              "│ dropout (\u001b[38;5;33mDropout\u001b[0m)                    │ (\u001b[38;5;45mNone\u001b[0m, \u001b[38;5;34m1600\u001b[0m)                │               \u001b[38;5;34m0\u001b[0m │\n",
              "├──────────────────────────────────────┼─────────────────────────────┼─────────────────┤\n",
              "│ dense (\u001b[38;5;33mDense\u001b[0m)                        │ (\u001b[38;5;45mNone\u001b[0m, \u001b[38;5;34m10\u001b[0m)                  │          \u001b[38;5;34m16,010\u001b[0m │\n",
              "└──────────────────────────────────────┴─────────────────────────────┴─────────────────┘\n"
            ],
            "text/html": [
              "<pre style=\"white-space:pre;overflow-x:auto;line-height:normal;font-family:Menlo,'DejaVu Sans Mono',consolas,'Courier New',monospace\">┏━━━━━━━━━━━━━━━━━━━━━━━━━━━━━━━━━━━━━━┳━━━━━━━━━━━━━━━━━━━━━━━━━━━━━┳━━━━━━━━━━━━━━━━━┓\n",
              "┃<span style=\"font-weight: bold\"> Layer (type)                         </span>┃<span style=\"font-weight: bold\"> Output Shape                </span>┃<span style=\"font-weight: bold\">         Param # </span>┃\n",
              "┡━━━━━━━━━━━━━━━━━━━━━━━━━━━━━━━━━━━━━━╇━━━━━━━━━━━━━━━━━━━━━━━━━━━━━╇━━━━━━━━━━━━━━━━━┩\n",
              "│ conv2d (<span style=\"color: #0087ff; text-decoration-color: #0087ff\">Conv2D</span>)                      │ (<span style=\"color: #00d7ff; text-decoration-color: #00d7ff\">None</span>, <span style=\"color: #00af00; text-decoration-color: #00af00\">26</span>, <span style=\"color: #00af00; text-decoration-color: #00af00\">26</span>, <span style=\"color: #00af00; text-decoration-color: #00af00\">32</span>)          │             <span style=\"color: #00af00; text-decoration-color: #00af00\">320</span> │\n",
              "├──────────────────────────────────────┼─────────────────────────────┼─────────────────┤\n",
              "│ max_pooling2d (<span style=\"color: #0087ff; text-decoration-color: #0087ff\">MaxPooling2D</span>)         │ (<span style=\"color: #00d7ff; text-decoration-color: #00d7ff\">None</span>, <span style=\"color: #00af00; text-decoration-color: #00af00\">13</span>, <span style=\"color: #00af00; text-decoration-color: #00af00\">13</span>, <span style=\"color: #00af00; text-decoration-color: #00af00\">32</span>)          │               <span style=\"color: #00af00; text-decoration-color: #00af00\">0</span> │\n",
              "├──────────────────────────────────────┼─────────────────────────────┼─────────────────┤\n",
              "│ conv2d_1 (<span style=\"color: #0087ff; text-decoration-color: #0087ff\">Conv2D</span>)                    │ (<span style=\"color: #00d7ff; text-decoration-color: #00d7ff\">None</span>, <span style=\"color: #00af00; text-decoration-color: #00af00\">11</span>, <span style=\"color: #00af00; text-decoration-color: #00af00\">11</span>, <span style=\"color: #00af00; text-decoration-color: #00af00\">64</span>)          │          <span style=\"color: #00af00; text-decoration-color: #00af00\">18,496</span> │\n",
              "├──────────────────────────────────────┼─────────────────────────────┼─────────────────┤\n",
              "│ max_pooling2d_1 (<span style=\"color: #0087ff; text-decoration-color: #0087ff\">MaxPooling2D</span>)       │ (<span style=\"color: #00d7ff; text-decoration-color: #00d7ff\">None</span>, <span style=\"color: #00af00; text-decoration-color: #00af00\">5</span>, <span style=\"color: #00af00; text-decoration-color: #00af00\">5</span>, <span style=\"color: #00af00; text-decoration-color: #00af00\">64</span>)            │               <span style=\"color: #00af00; text-decoration-color: #00af00\">0</span> │\n",
              "├──────────────────────────────────────┼─────────────────────────────┼─────────────────┤\n",
              "│ flatten (<span style=\"color: #0087ff; text-decoration-color: #0087ff\">Flatten</span>)                    │ (<span style=\"color: #00d7ff; text-decoration-color: #00d7ff\">None</span>, <span style=\"color: #00af00; text-decoration-color: #00af00\">1600</span>)                │               <span style=\"color: #00af00; text-decoration-color: #00af00\">0</span> │\n",
              "├──────────────────────────────────────┼─────────────────────────────┼─────────────────┤\n",
              "│ dropout (<span style=\"color: #0087ff; text-decoration-color: #0087ff\">Dropout</span>)                    │ (<span style=\"color: #00d7ff; text-decoration-color: #00d7ff\">None</span>, <span style=\"color: #00af00; text-decoration-color: #00af00\">1600</span>)                │               <span style=\"color: #00af00; text-decoration-color: #00af00\">0</span> │\n",
              "├──────────────────────────────────────┼─────────────────────────────┼─────────────────┤\n",
              "│ dense (<span style=\"color: #0087ff; text-decoration-color: #0087ff\">Dense</span>)                        │ (<span style=\"color: #00d7ff; text-decoration-color: #00d7ff\">None</span>, <span style=\"color: #00af00; text-decoration-color: #00af00\">10</span>)                  │          <span style=\"color: #00af00; text-decoration-color: #00af00\">16,010</span> │\n",
              "└──────────────────────────────────────┴─────────────────────────────┴─────────────────┘\n",
              "</pre>\n"
            ]
          },
          "metadata": {}
        },
        {
          "output_type": "display_data",
          "data": {
            "text/plain": [
              "\u001b[1m Total params: \u001b[0m\u001b[38;5;34m34,826\u001b[0m (136.04 KB)\n"
            ],
            "text/html": [
              "<pre style=\"white-space:pre;overflow-x:auto;line-height:normal;font-family:Menlo,'DejaVu Sans Mono',consolas,'Courier New',monospace\"><span style=\"font-weight: bold\"> Total params: </span><span style=\"color: #00af00; text-decoration-color: #00af00\">34,826</span> (136.04 KB)\n",
              "</pre>\n"
            ]
          },
          "metadata": {}
        },
        {
          "output_type": "display_data",
          "data": {
            "text/plain": [
              "\u001b[1m Trainable params: \u001b[0m\u001b[38;5;34m34,826\u001b[0m (136.04 KB)\n"
            ],
            "text/html": [
              "<pre style=\"white-space:pre;overflow-x:auto;line-height:normal;font-family:Menlo,'DejaVu Sans Mono',consolas,'Courier New',monospace\"><span style=\"font-weight: bold\"> Trainable params: </span><span style=\"color: #00af00; text-decoration-color: #00af00\">34,826</span> (136.04 KB)\n",
              "</pre>\n"
            ]
          },
          "metadata": {}
        },
        {
          "output_type": "display_data",
          "data": {
            "text/plain": [
              "\u001b[1m Non-trainable params: \u001b[0m\u001b[38;5;34m0\u001b[0m (0.00 B)\n"
            ],
            "text/html": [
              "<pre style=\"white-space:pre;overflow-x:auto;line-height:normal;font-family:Menlo,'DejaVu Sans Mono',consolas,'Courier New',monospace\"><span style=\"font-weight: bold\"> Non-trainable params: </span><span style=\"color: #00af00; text-decoration-color: #00af00\">0</span> (0.00 B)\n",
              "</pre>\n"
            ]
          },
          "metadata": {}
        }
      ]
    },
    {
      "cell_type": "code",
      "source": [
        "model.compile(loss=\"categorical_crossentropy\", optimizer=\"adam\", metrics=[\"accuracy\"])"
      ],
      "metadata": {
        "id": "fPMb6HWqg3yR"
      },
      "execution_count": 29,
      "outputs": []
    },
    {
      "cell_type": "code",
      "source": [
        "hist = model.fit(xtrain_pre.reshape(-1, 28, 28, 1), ytrain_pre, validation_split=0.1, epochs=15, batch_size=128)"
      ],
      "metadata": {
        "colab": {
          "base_uri": "https://localhost:8080/"
        },
        "id": "kG-2k38OhamK",
        "outputId": "2b207b20-6249-4597-adc1-53177603551a"
      },
      "execution_count": 30,
      "outputs": [
        {
          "output_type": "stream",
          "name": "stdout",
          "text": [
            "Epoch 1/15\n",
            "\u001b[1m422/422\u001b[0m \u001b[32m━━━━━━━━━━━━━━━━━━━━\u001b[0m\u001b[37m\u001b[0m \u001b[1m8s\u001b[0m 12ms/step - accuracy: 0.7648 - loss: 0.7691 - val_accuracy: 0.9787 - val_loss: 0.0819\n",
            "Epoch 2/15\n",
            "\u001b[1m422/422\u001b[0m \u001b[32m━━━━━━━━━━━━━━━━━━━━\u001b[0m\u001b[37m\u001b[0m \u001b[1m6s\u001b[0m 7ms/step - accuracy: 0.9628 - loss: 0.1209 - val_accuracy: 0.9840 - val_loss: 0.0566\n",
            "Epoch 3/15\n",
            "\u001b[1m422/422\u001b[0m \u001b[32m━━━━━━━━━━━━━━━━━━━━\u001b[0m\u001b[37m\u001b[0m \u001b[1m6s\u001b[0m 10ms/step - accuracy: 0.9730 - loss: 0.0890 - val_accuracy: 0.9867 - val_loss: 0.0484\n",
            "Epoch 4/15\n",
            "\u001b[1m422/422\u001b[0m \u001b[32m━━━━━━━━━━━━━━━━━━━━\u001b[0m\u001b[37m\u001b[0m \u001b[1m4s\u001b[0m 10ms/step - accuracy: 0.9768 - loss: 0.0761 - val_accuracy: 0.9880 - val_loss: 0.0426\n",
            "Epoch 5/15\n",
            "\u001b[1m422/422\u001b[0m \u001b[32m━━━━━━━━━━━━━━━━━━━━\u001b[0m\u001b[37m\u001b[0m \u001b[1m2s\u001b[0m 4ms/step - accuracy: 0.9784 - loss: 0.0662 - val_accuracy: 0.9895 - val_loss: 0.0396\n",
            "Epoch 6/15\n",
            "\u001b[1m422/422\u001b[0m \u001b[32m━━━━━━━━━━━━━━━━━━━━\u001b[0m\u001b[37m\u001b[0m \u001b[1m1s\u001b[0m 3ms/step - accuracy: 0.9824 - loss: 0.0559 - val_accuracy: 0.9910 - val_loss: 0.0358\n",
            "Epoch 7/15\n",
            "\u001b[1m422/422\u001b[0m \u001b[32m━━━━━━━━━━━━━━━━━━━━\u001b[0m\u001b[37m\u001b[0m \u001b[1m3s\u001b[0m 3ms/step - accuracy: 0.9834 - loss: 0.0511 - val_accuracy: 0.9903 - val_loss: 0.0353\n",
            "Epoch 8/15\n",
            "\u001b[1m422/422\u001b[0m \u001b[32m━━━━━━━━━━━━━━━━━━━━\u001b[0m\u001b[37m\u001b[0m \u001b[1m1s\u001b[0m 3ms/step - accuracy: 0.9846 - loss: 0.0479 - val_accuracy: 0.9922 - val_loss: 0.0341\n",
            "Epoch 9/15\n",
            "\u001b[1m422/422\u001b[0m \u001b[32m━━━━━━━━━━━━━━━━━━━━\u001b[0m\u001b[37m\u001b[0m \u001b[1m2s\u001b[0m 4ms/step - accuracy: 0.9857 - loss: 0.0435 - val_accuracy: 0.9932 - val_loss: 0.0312\n",
            "Epoch 10/15\n",
            "\u001b[1m422/422\u001b[0m \u001b[32m━━━━━━━━━━━━━━━━━━━━\u001b[0m\u001b[37m\u001b[0m \u001b[1m2s\u001b[0m 4ms/step - accuracy: 0.9870 - loss: 0.0410 - val_accuracy: 0.9927 - val_loss: 0.0300\n",
            "Epoch 11/15\n",
            "\u001b[1m422/422\u001b[0m \u001b[32m━━━━━━━━━━━━━━━━━━━━\u001b[0m\u001b[37m\u001b[0m \u001b[1m1s\u001b[0m 3ms/step - accuracy: 0.9875 - loss: 0.0394 - val_accuracy: 0.9920 - val_loss: 0.0302\n",
            "Epoch 12/15\n",
            "\u001b[1m422/422\u001b[0m \u001b[32m━━━━━━━━━━━━━━━━━━━━\u001b[0m\u001b[37m\u001b[0m \u001b[1m1s\u001b[0m 3ms/step - accuracy: 0.9881 - loss: 0.0369 - val_accuracy: 0.9923 - val_loss: 0.0284\n",
            "Epoch 13/15\n",
            "\u001b[1m422/422\u001b[0m \u001b[32m━━━━━━━━━━━━━━━━━━━━\u001b[0m\u001b[37m\u001b[0m \u001b[1m3s\u001b[0m 3ms/step - accuracy: 0.9890 - loss: 0.0349 - val_accuracy: 0.9932 - val_loss: 0.0287\n",
            "Epoch 14/15\n",
            "\u001b[1m422/422\u001b[0m \u001b[32m━━━━━━━━━━━━━━━━━━━━\u001b[0m\u001b[37m\u001b[0m \u001b[1m1s\u001b[0m 3ms/step - accuracy: 0.9897 - loss: 0.0312 - val_accuracy: 0.9930 - val_loss: 0.0298\n",
            "Epoch 15/15\n",
            "\u001b[1m422/422\u001b[0m \u001b[32m━━━━━━━━━━━━━━━━━━━━\u001b[0m\u001b[37m\u001b[0m \u001b[1m2s\u001b[0m 3ms/step - accuracy: 0.9893 - loss: 0.0324 - val_accuracy: 0.9917 - val_loss: 0.0286\n"
          ]
        }
      ]
    },
    {
      "cell_type": "markdown",
      "source": [
        "### Plot the learning curve"
      ],
      "metadata": {
        "id": "hauKe8DVjZom"
      }
    },
    {
      "cell_type": "code",
      "source": [
        "plt.figure(figsize=(10, 5))\n",
        "plt.plot(hist.history[\"loss\"], label=\"Training Loss\")\n",
        "plt.plot(hist.history[\"val_loss\"], label=\"Validation Loss\")\n",
        "plt.legend()\n",
        "plt.show()"
      ],
      "metadata": {
        "colab": {
          "base_uri": "https://localhost:8080/",
          "height": 445
        },
        "id": "iFW0G4TaiAd9",
        "outputId": "eeff5f5f-a93f-43d6-c7cc-bd6887a9db69"
      },
      "execution_count": 31,
      "outputs": [
        {
          "output_type": "display_data",
          "data": {
            "text/plain": [
              "<Figure size 1000x500 with 1 Axes>"
            ],
            "image/png": "[encoded data removed]"
          },
          "metadata": {}
        }
      ]
    },
    {
      "cell_type": "markdown",
      "source": [
        "### Evaluate the model"
      ],
      "metadata": {
        "id": "d6IKvmuDkhgQ"
      }
    },
    {
      "cell_type": "code",
      "source": [
        "model.evaluate(xtrain_pre.reshape(-1, 28, 28, 1), ytrain_pre)"
      ],
      "metadata": {
        "colab": {
          "base_uri": "https://localhost:8080/"
        },
        "id": "nIwUq3HujuR4",
        "outputId": "931fcb72-222c-4dbc-a194-c3aec8624e11"
      },
      "execution_count": 32,
      "outputs": [
        {
          "output_type": "stream",
          "name": "stdout",
          "text": [
            "\u001b[1m1875/1875\u001b[0m \u001b[32m━━━━━━━━━━━━━━━━━━━━\u001b[0m\u001b[37m\u001b[0m \u001b[1m4s\u001b[0m 2ms/step - accuracy: 0.9950 - loss: 0.0159\n"
          ]
        },
        {
          "output_type": "execute_result",
          "data": {
            "text/plain": [
              "[0.016909515485167503, 0.994866669178009]"
            ]
          },
          "metadata": {},
          "execution_count": 32
        }
      ]
    },
    {
      "cell_type": "code",
      "source": [
        "model.evaluate(xtest_pre.reshape(-1, 28, 28, 1), ytest_pre)"
      ],
      "metadata": {
        "colab": {
          "base_uri": "https://localhost:8080/"
        },
        "id": "pGPXTWPEkna7",
        "outputId": "698f448b-ca33-4355-80af-8aa93c988d94"
      },
      "execution_count": 33,
      "outputs": [
        {
          "output_type": "stream",
          "name": "stdout",
          "text": [
            "\u001b[1m313/313\u001b[0m \u001b[32m━━━━━━━━━━━━━━━━━━━━\u001b[0m\u001b[37m\u001b[0m \u001b[1m1s\u001b[0m 3ms/step - accuracy: 0.9906 - loss: 0.0292\n"
          ]
        },
        {
          "output_type": "execute_result",
          "data": {
            "text/plain": [
              "[0.02518564835190773, 0.9919999837875366]"
            ]
          },
          "metadata": {},
          "execution_count": 33
        }
      ]
    },
    {
      "cell_type": "code",
      "source": [
        "yprob_train = model.predict(xtrain_pre.reshape(-1, 28, 28, 1))\n",
        "yprob_train"
      ],
      "metadata": {
        "id": "LbaS3p5Gkwj_",
        "colab": {
          "base_uri": "https://localhost:8080/"
        },
        "outputId": "0cf548a0-7b3b-469b-af9c-86255a4f9ec3"
      },
      "execution_count": 34,
      "outputs": [
        {
          "output_type": "stream",
          "name": "stdout",
          "text": [
            "\u001b[1m1875/1875\u001b[0m \u001b[32m━━━━━━━━━━━━━━━━━━━━\u001b[0m\u001b[37m\u001b[0m \u001b[1m3s\u001b[0m 1ms/step\n"
          ]
        },
        {
          "output_type": "execute_result",
          "data": {
            "text/plain": [
              "array([[9.1229611e-12, 1.1128650e-11, 4.1781861e-10, ..., 2.8425202e-08,\n",
              "        5.0033083e-07, 3.9286513e-07],\n",
              "       [9.9999702e-01, 3.5807174e-15, 7.5532614e-07, ..., 3.5015536e-12,\n",
              "        2.1870493e-08, 5.7240644e-08],\n",
              "       [2.7877699e-14, 2.5536110e-07, 5.9235234e-09, ..., 4.8242423e-06,\n",
              "        2.9882710e-07, 7.1787105e-07],\n",
              "       ...,\n",
              "       [4.3387459e-12, 7.4699584e-13, 2.8324871e-13, ..., 7.7371264e-13,\n",
              "        7.4751682e-07, 4.9943865e-06],\n",
              "       [3.3861238e-07, 1.0789611e-09, 9.5459939e-08, ..., 3.7970902e-12,\n",
              "        2.1681157e-07, 1.5798321e-11],\n",
              "       [2.2543358e-07, 4.5851105e-13, 3.2366634e-07, ..., 1.5809894e-08,\n",
              "        9.9996698e-01, 3.2171960e-05]], dtype=float32)"
            ]
          },
          "metadata": {},
          "execution_count": 34
        }
      ]
    },
    {
      "cell_type": "code",
      "source": [
        "yprob_train[0]"
      ],
      "metadata": {
        "colab": {
          "base_uri": "https://localhost:8080/"
        },
        "id": "c8hghf3mWwUu",
        "outputId": "7379e237-0cfb-407e-8561-2fb2f1321dd3"
      },
      "execution_count": 35,
      "outputs": [
        {
          "output_type": "execute_result",
          "data": {
            "text/plain": [
              "array([9.1229611e-12, 1.1128650e-11, 4.1781861e-10, 1.6949680e-03,\n",
              "       9.7336809e-13, 9.9830413e-01, 9.1717077e-12, 2.8425202e-08,\n",
              "       5.0033083e-07, 3.9286513e-07], dtype=float32)"
            ]
          },
          "metadata": {},
          "execution_count": 35
        }
      ]
    },
    {
      "cell_type": "code",
      "source": [
        "ypred_train = np.argmax(yprob_train, axis=1)\n",
        "ypred_train[0:5]"
      ],
      "metadata": {
        "colab": {
          "base_uri": "https://localhost:8080/"
        },
        "id": "wZ-crG3pY2gv",
        "outputId": "25f0ce09-df33-4735-83fb-1e3b132deb7b"
      },
      "execution_count": 36,
      "outputs": [
        {
          "output_type": "execute_result",
          "data": {
            "text/plain": [
              "array([5, 0, 4, 1, 9])"
            ]
          },
          "metadata": {},
          "execution_count": 36
        }
      ]
    },
    {
      "cell_type": "code",
      "source": [
        "ytrain[0:5]"
      ],
      "metadata": {
        "colab": {
          "base_uri": "https://localhost:8080/"
        },
        "id": "tOldWjfCZbPm",
        "outputId": "c0a83190-6b35-4c96-ea8c-ed3503b342de"
      },
      "execution_count": 37,
      "outputs": [
        {
          "output_type": "execute_result",
          "data": {
            "text/plain": [
              "array([5, 0, 4, 1, 9], dtype=uint8)"
            ]
          },
          "metadata": {},
          "execution_count": 37
        }
      ]
    },
    {
      "cell_type": "code",
      "source": [
        "xtest.shape"
      ],
      "metadata": {
        "colab": {
          "base_uri": "https://localhost:8080/"
        },
        "id": "ue-h5U0JZs-9",
        "outputId": "141b625e-932c-4b64-a7f2-6561ac41b371"
      },
      "execution_count": 38,
      "outputs": [
        {
          "output_type": "execute_result",
          "data": {
            "text/plain": [
              "(10000, 28, 28)"
            ]
          },
          "metadata": {},
          "execution_count": 38
        }
      ]
    },
    {
      "cell_type": "code",
      "source": [
        "yprob_test = model.predict(xtest_pre.reshape(-1, 28, 28, 1))\n",
        "yprob_test[0:5]"
      ],
      "metadata": {
        "colab": {
          "base_uri": "https://localhost:8080/"
        },
        "id": "zOIMG29uZiLq",
        "outputId": "ac1954ac-d8b0-487e-dece-efbc7a791b80"
      },
      "execution_count": 39,
      "outputs": [
        {
          "output_type": "stream",
          "name": "stdout",
          "text": [
            "\u001b[1m313/313\u001b[0m \u001b[32m━━━━━━━━━━━━━━━━━━━━\u001b[0m\u001b[37m\u001b[0m \u001b[1m1s\u001b[0m 2ms/step\n"
          ]
        },
        {
          "output_type": "execute_result",
          "data": {
            "text/plain": [
              "array([[4.7752113e-09, 2.1856329e-10, 2.4590918e-06, 4.3690511e-06,\n",
              "        2.6628972e-11, 3.4167197e-10, 5.2247565e-16, 9.9999297e-01,\n",
              "        3.1262008e-08, 2.4667031e-07],\n",
              "       [7.3832859e-07, 2.3347236e-07, 9.9999189e-01, 6.9857284e-09,\n",
              "        3.8863156e-11, 3.5515566e-13, 6.1633236e-06, 1.8598333e-11,\n",
              "        9.1054017e-07, 1.2705860e-12],\n",
              "       [6.4631166e-08, 9.9908125e-01, 7.2837461e-06, 2.9719324e-08,\n",
              "        4.6957959e-04, 2.8366884e-07, 2.3698087e-06, 2.8214999e-04,\n",
              "        1.5640327e-04, 5.6345408e-07],\n",
              "       [9.9983585e-01, 1.5003670e-12, 1.0937397e-05, 1.0097553e-08,\n",
              "        3.2951856e-08, 8.7891401e-08, 1.4881193e-04, 3.0934497e-09,\n",
              "        1.7851862e-06, 2.3983964e-06],\n",
              "       [7.4512480e-10, 7.4338695e-11, 1.0562903e-09, 2.8585760e-11,\n",
              "        9.9999809e-01, 1.2384978e-12, 1.5858701e-09, 3.6158023e-09,\n",
              "        1.5855292e-08, 1.9668785e-06]], dtype=float32)"
            ]
          },
          "metadata": {},
          "execution_count": 39
        }
      ]
    },
    {
      "cell_type": "code",
      "source": [
        "ypred_test = np.argmax(yprob_test, axis=1)\n",
        "ypred_test[0:5]"
      ],
      "metadata": {
        "colab": {
          "base_uri": "https://localhost:8080/"
        },
        "id": "pr_ddW_hZxwl",
        "outputId": "df2c1b8a-98ae-4dbb-9711-cfc4db2ccbc4"
      },
      "execution_count": 40,
      "outputs": [
        {
          "output_type": "execute_result",
          "data": {
            "text/plain": [
              "array([7, 2, 1, 0, 4])"
            ]
          },
          "metadata": {},
          "execution_count": 40
        }
      ]
    },
    {
      "cell_type": "code",
      "source": [
        "ytest[0:5]"
      ],
      "metadata": {
        "colab": {
          "base_uri": "https://localhost:8080/"
        },
        "id": "ia0mruUiaCCc",
        "outputId": "40492be6-e31c-4a9c-cc2a-fdd97d8bfcda"
      },
      "execution_count": 41,
      "outputs": [
        {
          "output_type": "execute_result",
          "data": {
            "text/plain": [
              "array([7, 2, 1, 0, 4], dtype=uint8)"
            ]
          },
          "metadata": {},
          "execution_count": 41
        }
      ]
    },
    {
      "cell_type": "code",
      "source": [
        "from sklearn.metrics import ConfusionMatrixDisplay\n",
        "ConfusionMatrixDisplay.from_predictions(ytest, ypred_test)"
      ],
      "metadata": {
        "colab": {
          "base_uri": "https://localhost:8080/",
          "height": 466
        },
        "id": "pWehDxn_aKA5",
        "outputId": "ec16ed7d-8989-4dcf-b88c-86b9761bbd1e"
      },
      "execution_count": 42,
      "outputs": [
        {
          "output_type": "execute_result",
          "data": {
            "text/plain": [
              "<sklearn.metrics._plot.confusion_matrix.ConfusionMatrixDisplay at 0x7d04387b7520>"
            ]
          },
          "metadata": {},
          "execution_count": 42
        },
        {
          "output_type": "display_data",
          "data": {
            "text/plain": [
              "<Figure size 640x480 with 2 Axes>"
            ],
            "image/png": "[encoded data removed]"
          },
          "metadata": {}
        }
      ]
    },
    {
      "cell_type": "code",
      "source": [
        "from sklearn.metrics import classification_report\n",
        "print(classification_report(ytest, ypred_test))"
      ],
      "metadata": {
        "colab": {
          "base_uri": "https://localhost:8080/"
        },
        "id": "PBPVAbfPacTQ",
        "outputId": "55cde765-79fa-4470-be7c-0642f3a08d88"
      },
      "execution_count": 43,
      "outputs": [
        {
          "output_type": "stream",
          "name": "stdout",
          "text": [
            "              precision    recall  f1-score   support\n",
            "\n",
            "           0       0.99      1.00      0.99       980\n",
            "           1       0.99      1.00      1.00      1135\n",
            "           2       0.99      0.99      0.99      1032\n",
            "           3       1.00      1.00      1.00      1010\n",
            "           4       0.99      1.00      0.99       982\n",
            "           5       0.99      0.99      0.99       892\n",
            "           6       1.00      0.99      0.99       958\n",
            "           7       0.99      0.99      0.99      1028\n",
            "           8       0.98      0.99      0.99       974\n",
            "           9       1.00      0.98      0.99      1009\n",
            "\n",
            "    accuracy                           0.99     10000\n",
            "   macro avg       0.99      0.99      0.99     10000\n",
            "weighted avg       0.99      0.99      0.99     10000\n",
            "\n"
          ]
        }
      ]
    },
    {
      "cell_type": "markdown",
      "source": [
        "## From above test, data has f1_macro of 0.99 > 0.8 hence it is a good model"
      ],
      "metadata": {
        "id": "oMLxwC1qgtnK"
      }
    },
    {
      "cell_type": "code",
      "source": [
        "import cv2"
      ],
      "metadata": {
        "id": "yEVpZfwxgbSw"
      },
      "execution_count": 44,
      "outputs": []
    },
    {
      "cell_type": "code",
      "source": [
        "def predict_label(img_path):\n",
        "    img = cv2.imread(img_path, cv2.IMREAD_GRAYSCALE)\n",
        "    plt.imshow(img, cmap=\"gray\")\n",
        "    plt.show()\n",
        "    img = img.astype(float)/255\n",
        "    probs = model.predict(img.reshape(1, 28, 28, 1))\n",
        "    pred = np.argmax(probs, axis=1)\n",
        "    return pred, np.max(probs)"
      ],
      "metadata": {
        "id": "yFdsr6MfhqHe"
      },
      "execution_count": 45,
      "outputs": []
    },
    {
      "cell_type": "code",
      "source": [
        "predict_label(\"/content/Img_3.jpg\")"
      ],
      "metadata": {
        "colab": {
          "base_uri": "https://localhost:8080/",
          "height": 465
        },
        "id": "Ek9RKN5MiTar",
        "outputId": "3010b8ee-9d7c-4104-8e30-b707190c1cfc"
      },
      "execution_count": 46,
      "outputs": [
        {
          "output_type": "display_data",
          "data": {
            "text/plain": [
              "<Figure size 640x480 with 1 Axes>"
            ],
            "image/png": "[encoded data removed]"
          },
          "metadata": {}
        },
        {
          "output_type": "stream",
          "name": "stdout",
          "text": [
            "\u001b[1m1/1\u001b[0m \u001b[32m━━━━━━━━━━━━━━━━━━━━\u001b[0m\u001b[37m\u001b[0m \u001b[1m0s\u001b[0m 304ms/step\n"
          ]
        },
        {
          "output_type": "execute_result",
          "data": {
            "text/plain": [
              "(array([3]), 1.0)"
            ]
          },
          "metadata": {},
          "execution_count": 46
        }
      ]
    },
    {
      "cell_type": "code",
      "source": [
        "predict_label(\"/content/Img_5.png\")"
      ],
      "metadata": {
        "colab": {
          "base_uri": "https://localhost:8080/",
          "height": 465
        },
        "id": "dneyO7oBin1-",
        "outputId": "12977d16-8038-46a2-cf10-4204777219a3"
      },
      "execution_count": 47,
      "outputs": [
        {
          "output_type": "display_data",
          "data": {
            "text/plain": [
              "<Figure size 640x480 with 1 Axes>"
            ],
            "image/png": "[encoded data removed]"
          },
          "metadata": {}
        },
        {
          "output_type": "stream",
          "name": "stdout",
          "text": [
            "\u001b[1m1/1\u001b[0m \u001b[32m━━━━━━━━━━━━━━━━━━━━\u001b[0m\u001b[37m\u001b[0m \u001b[1m0s\u001b[0m 27ms/step\n"
          ]
        },
        {
          "output_type": "execute_result",
          "data": {
            "text/plain": [
              "(array([5]), 1.0)"
            ]
          },
          "metadata": {},
          "execution_count": 47
        }
      ]
    },
    {
      "cell_type": "code",
      "source": [
        "predict_label(\"/content/Img_7.png\")"
      ],
      "metadata": {
        "colab": {
          "base_uri": "https://localhost:8080/",
          "height": 465
        },
        "id": "3EWeS5nasL3j",
        "outputId": "362535ae-7cef-4664-de73-f282f31e2094"
      },
      "execution_count": 48,
      "outputs": [
        {
          "output_type": "display_data",
          "data": {
            "text/plain": [
              "<Figure size 640x480 with 1 Axes>"
            ],
            "image/png": "[encoded data removed]"
          },
          "metadata": {}
        },
        {
          "output_type": "stream",
          "name": "stdout",
          "text": [
            "\u001b[1m1/1\u001b[0m \u001b[32m━━━━━━━━━━━━━━━━━━━━\u001b[0m\u001b[37m\u001b[0m \u001b[1m0s\u001b[0m 16ms/step\n"
          ]
        },
        {
          "output_type": "execute_result",
          "data": {
            "text/plain": [
              "(array([7]), 0.5864207)"
            ]
          },
          "metadata": {},
          "execution_count": 48
        }
      ]
    },
    {
      "cell_type": "markdown",
      "source": [
        "### Save the model"
      ],
      "metadata": {
        "id": "WiB2yKhesTqA"
      }
    },
    {
      "cell_type": "code",
      "source": [
        "model.save(\"DigitModel.keras\")"
      ],
      "metadata": {
        "id": "3qtOfG48sQK0"
      },
      "execution_count": 49,
      "outputs": []
    },
    {
      "cell_type": "markdown",
      "source": [
        "\n",
        "### Load the model"
      ],
      "metadata": {
        "id": "XEQFogD6sdVu"
      }
    },
    {
      "cell_type": "code",
      "source": [
        "from keras.models import load_model"
      ],
      "metadata": {
        "id": "qP3VESDEsbYp"
      },
      "execution_count": 50,
      "outputs": []
    },
    {
      "cell_type": "code",
      "source": [
        "m = load_model(\"/content/DigitModel.keras\")"
      ],
      "metadata": {
        "id": "lk1j0INnsl_s"
      },
      "execution_count": 51,
      "outputs": []
    },
    {
      "cell_type": "code",
      "source": [
        "m.summary()"
      ],
      "metadata": {
        "colab": {
          "base_uri": "https://localhost:8080/",
          "height": 369
        },
        "id": "NqXF74jJstXa",
        "outputId": "3319c623-d023-4670-9514-aed6c80c863d"
      },
      "execution_count": 52,
      "outputs": [
        {
          "output_type": "display_data",
          "data": {
            "text/plain": [
              "\u001b[1mModel: \"sequential\"\u001b[0m\n"
            ],
            "text/html": [
              "<pre style=\"white-space:pre;overflow-x:auto;line-height:normal;font-family:Menlo,'DejaVu Sans Mono',consolas,'Courier New',monospace\"><span style=\"font-weight: bold\">Model: \"sequential\"</span>\n",
              "</pre>\n"
            ]
          },
          "metadata": {}
        },
        {
          "output_type": "display_data",
          "data": {
            "text/plain": [
              "┏━━━━━━━━━━━━━━━━━━━━━━━━━━━━━━━━━━━━━━┳━━━━━━━━━━━━━━━━━━━━━━━━━━━━━┳━━━━━━━━━━━━━━━━━┓\n",
              "┃\u001b[1m \u001b[0m\u001b[1mLayer (type)                        \u001b[0m\u001b[1m \u001b[0m┃\u001b[1m \u001b[0m\u001b[1mOutput Shape               \u001b[0m\u001b[1m \u001b[0m┃\u001b[1m \u001b[0m\u001b[1m        Param #\u001b[0m\u001b[1m \u001b[0m┃\n",
              "┡━━━━━━━━━━━━━━━━━━━━━━━━━━━━━━━━━━━━━━╇━━━━━━━━━━━━━━━━━━━━━━━━━━━━━╇━━━━━━━━━━━━━━━━━┩\n",
              "│ conv2d (\u001b[38;5;33mConv2D\u001b[0m)                      │ (\u001b[38;5;45mNone\u001b[0m, \u001b[38;5;34m26\u001b[0m, \u001b[38;5;34m26\u001b[0m, \u001b[38;5;34m32\u001b[0m)          │             \u001b[38;5;34m320\u001b[0m │\n",
              "├──────────────────────────────────────┼─────────────────────────────┼─────────────────┤\n",
              "│ max_pooling2d (\u001b[38;5;33mMaxPooling2D\u001b[0m)         │ (\u001b[38;5;45mNone\u001b[0m, \u001b[38;5;34m13\u001b[0m, \u001b[38;5;34m13\u001b[0m, \u001b[38;5;34m32\u001b[0m)          │               \u001b[38;5;34m0\u001b[0m │\n",
              "├──────────────────────────────────────┼─────────────────────────────┼─────────────────┤\n",
              "│ conv2d_1 (\u001b[38;5;33mConv2D\u001b[0m)                    │ (\u001b[38;5;45mNone\u001b[0m, \u001b[38;5;34m11\u001b[0m, \u001b[38;5;34m11\u001b[0m, \u001b[38;5;34m64\u001b[0m)          │          \u001b[38;5;34m18,496\u001b[0m │\n",
              "├──────────────────────────────────────┼─────────────────────────────┼─────────────────┤\n",
              "│ max_pooling2d_1 (\u001b[38;5;33mMaxPooling2D\u001b[0m)       │ (\u001b[38;5;45mNone\u001b[0m, \u001b[38;5;34m5\u001b[0m, \u001b[38;5;34m5\u001b[0m, \u001b[38;5;34m64\u001b[0m)            │               \u001b[38;5;34m0\u001b[0m │\n",
              "├──────────────────────────────────────┼─────────────────────────────┼─────────────────┤\n",
              "│ flatten (\u001b[38;5;33mFlatten\u001b[0m)                    │ (\u001b[38;5;45mNone\u001b[0m, \u001b[38;5;34m1600\u001b[0m)                │               \u001b[38;5;34m0\u001b[0m │\n",
              "├──────────────────────────────────────┼─────────────────────────────┼─────────────────┤\n",
              "│ dropout (\u001b[38;5;33mDropout\u001b[0m)                    │ (\u001b[38;5;45mNone\u001b[0m, \u001b[38;5;34m1600\u001b[0m)                │               \u001b[38;5;34m0\u001b[0m │\n",
              "├──────────────────────────────────────┼─────────────────────────────┼─────────────────┤\n",
              "│ dense (\u001b[38;5;33mDense\u001b[0m)                        │ (\u001b[38;5;45mNone\u001b[0m, \u001b[38;5;34m10\u001b[0m)                  │          \u001b[38;5;34m16,010\u001b[0m │\n",
              "└──────────────────────────────────────┴─────────────────────────────┴─────────────────┘\n"
            ],
            "text/html": [
              "<pre style=\"white-space:pre;overflow-x:auto;line-height:normal;font-family:Menlo,'DejaVu Sans Mono',consolas,'Courier New',monospace\">┏━━━━━━━━━━━━━━━━━━━━━━━━━━━━━━━━━━━━━━┳━━━━━━━━━━━━━━━━━━━━━━━━━━━━━┳━━━━━━━━━━━━━━━━━┓\n",
              "┃<span style=\"font-weight: bold\"> Layer (type)                         </span>┃<span style=\"font-weight: bold\"> Output Shape                </span>┃<span style=\"font-weight: bold\">         Param # </span>┃\n",
              "┡━━━━━━━━━━━━━━━━━━━━━━━━━━━━━━━━━━━━━━╇━━━━━━━━━━━━━━━━━━━━━━━━━━━━━╇━━━━━━━━━━━━━━━━━┩\n",
              "│ conv2d (<span style=\"color: #0087ff; text-decoration-color: #0087ff\">Conv2D</span>)                      │ (<span style=\"color: #00d7ff; text-decoration-color: #00d7ff\">None</span>, <span style=\"color: #00af00; text-decoration-color: #00af00\">26</span>, <span style=\"color: #00af00; text-decoration-color: #00af00\">26</span>, <span style=\"color: #00af00; text-decoration-color: #00af00\">32</span>)          │             <span style=\"color: #00af00; text-decoration-color: #00af00\">320</span> │\n",
              "├──────────────────────────────────────┼─────────────────────────────┼─────────────────┤\n",
              "│ max_pooling2d (<span style=\"color: #0087ff; text-decoration-color: #0087ff\">MaxPooling2D</span>)         │ (<span style=\"color: #00d7ff; text-decoration-color: #00d7ff\">None</span>, <span style=\"color: #00af00; text-decoration-color: #00af00\">13</span>, <span style=\"color: #00af00; text-decoration-color: #00af00\">13</span>, <span style=\"color: #00af00; text-decoration-color: #00af00\">32</span>)          │               <span style=\"color: #00af00; text-decoration-color: #00af00\">0</span> │\n",
              "├──────────────────────────────────────┼─────────────────────────────┼─────────────────┤\n",
              "│ conv2d_1 (<span style=\"color: #0087ff; text-decoration-color: #0087ff\">Conv2D</span>)                    │ (<span style=\"color: #00d7ff; text-decoration-color: #00d7ff\">None</span>, <span style=\"color: #00af00; text-decoration-color: #00af00\">11</span>, <span style=\"color: #00af00; text-decoration-color: #00af00\">11</span>, <span style=\"color: #00af00; text-decoration-color: #00af00\">64</span>)          │          <span style=\"color: #00af00; text-decoration-color: #00af00\">18,496</span> │\n",
              "├──────────────────────────────────────┼─────────────────────────────┼─────────────────┤\n",
              "│ max_pooling2d_1 (<span style=\"color: #0087ff; text-decoration-color: #0087ff\">MaxPooling2D</span>)       │ (<span style=\"color: #00d7ff; text-decoration-color: #00d7ff\">None</span>, <span style=\"color: #00af00; text-decoration-color: #00af00\">5</span>, <span style=\"color: #00af00; text-decoration-color: #00af00\">5</span>, <span style=\"color: #00af00; text-decoration-color: #00af00\">64</span>)            │               <span style=\"color: #00af00; text-decoration-color: #00af00\">0</span> │\n",
              "├──────────────────────────────────────┼─────────────────────────────┼─────────────────┤\n",
              "│ flatten (<span style=\"color: #0087ff; text-decoration-color: #0087ff\">Flatten</span>)                    │ (<span style=\"color: #00d7ff; text-decoration-color: #00d7ff\">None</span>, <span style=\"color: #00af00; text-decoration-color: #00af00\">1600</span>)                │               <span style=\"color: #00af00; text-decoration-color: #00af00\">0</span> │\n",
              "├──────────────────────────────────────┼─────────────────────────────┼─────────────────┤\n",
              "│ dropout (<span style=\"color: #0087ff; text-decoration-color: #0087ff\">Dropout</span>)                    │ (<span style=\"color: #00d7ff; text-decoration-color: #00d7ff\">None</span>, <span style=\"color: #00af00; text-decoration-color: #00af00\">1600</span>)                │               <span style=\"color: #00af00; text-decoration-color: #00af00\">0</span> │\n",
              "├──────────────────────────────────────┼─────────────────────────────┼─────────────────┤\n",
              "│ dense (<span style=\"color: #0087ff; text-decoration-color: #0087ff\">Dense</span>)                        │ (<span style=\"color: #00d7ff; text-decoration-color: #00d7ff\">None</span>, <span style=\"color: #00af00; text-decoration-color: #00af00\">10</span>)                  │          <span style=\"color: #00af00; text-decoration-color: #00af00\">16,010</span> │\n",
              "└──────────────────────────────────────┴─────────────────────────────┴─────────────────┘\n",
              "</pre>\n"
            ]
          },
          "metadata": {}
        },
        {
          "output_type": "display_data",
          "data": {
            "text/plain": [
              "\u001b[1m Total params: \u001b[0m\u001b[38;5;34m104,480\u001b[0m (408.13 KB)\n"
            ],
            "text/html": [
              "<pre style=\"white-space:pre;overflow-x:auto;line-height:normal;font-family:Menlo,'DejaVu Sans Mono',consolas,'Courier New',monospace\"><span style=\"font-weight: bold\"> Total params: </span><span style=\"color: #00af00; text-decoration-color: #00af00\">104,480</span> (408.13 KB)\n",
              "</pre>\n"
            ]
          },
          "metadata": {}
        },
        {
          "output_type": "display_data",
          "data": {
            "text/plain": [
              "\u001b[1m Trainable params: \u001b[0m\u001b[38;5;34m34,826\u001b[0m (136.04 KB)\n"
            ],
            "text/html": [
              "<pre style=\"white-space:pre;overflow-x:auto;line-height:normal;font-family:Menlo,'DejaVu Sans Mono',consolas,'Courier New',monospace\"><span style=\"font-weight: bold\"> Trainable params: </span><span style=\"color: #00af00; text-decoration-color: #00af00\">34,826</span> (136.04 KB)\n",
              "</pre>\n"
            ]
          },
          "metadata": {}
        },
        {
          "output_type": "display_data",
          "data": {
            "text/plain": [
              "\u001b[1m Non-trainable params: \u001b[0m\u001b[38;5;34m0\u001b[0m (0.00 B)\n"
            ],
            "text/html": [
              "<pre style=\"white-space:pre;overflow-x:auto;line-height:normal;font-family:Menlo,'DejaVu Sans Mono',consolas,'Courier New',monospace\"><span style=\"font-weight: bold\"> Non-trainable params: </span><span style=\"color: #00af00; text-decoration-color: #00af00\">0</span> (0.00 B)\n",
              "</pre>\n"
            ]
          },
          "metadata": {}
        },
        {
          "output_type": "display_data",
          "data": {
            "text/plain": [
              "\u001b[1m Optimizer params: \u001b[0m\u001b[38;5;34m69,654\u001b[0m (272.09 KB)\n"
            ],
            "text/html": [
              "<pre style=\"white-space:pre;overflow-x:auto;line-height:normal;font-family:Menlo,'DejaVu Sans Mono',consolas,'Courier New',monospace\"><span style=\"font-weight: bold\"> Optimizer params: </span><span style=\"color: #00af00; text-decoration-color: #00af00\">69,654</span> (272.09 KB)\n",
              "</pre>\n"
            ]
          },
          "metadata": {}
        }
      ]
    },
    {
      "cell_type": "code",
      "source": [],
      "metadata": {
        "id": "PVp1sLI0svM8"
      },
      "execution_count": null,
      "outputs": []
    }
  ]
}